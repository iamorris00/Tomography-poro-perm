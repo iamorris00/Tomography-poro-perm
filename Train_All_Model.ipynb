{
 "cells": [
  {
   "cell_type": "code",
   "execution_count": 49,
   "metadata": {
    "pycharm": {
     "name": "#%%\n"
    }
   },
   "outputs": [],
   "source": [
    "##Importar las librerias que se van a usar\n",
    "import os #Libreria que permite utilizar las dependencias del sistema operativo, como explorador, ver archivos, etc..\n",
    "\n",
    "import pandas as pd #Libreria que permite trabajar con set de datos\n",
    "import numpy as np #Libreria matematica para trabajar con vectores y tensores\n",
    "import matplotlib.pyplot as plt #Libreria para graficar variables\n",
    "import seaborn as sns #Libreria que trae por defecto graficas como regresión lineal\n",
    "\n",
    "import tensorflow as tf #Suite tensorflow para aprenziaje profundo de Google\n",
    "gpus = tf.config.experimental.list_physical_devices('GPU') #Asegura que se tiene GPU para trabajar\n",
    "tf.config.experimental.set_memory_growth(gpus[0], True) #Asegura que se tiene GPU para trabajar\n",
    "\n",
    "from tensorflow import keras #Dependencias de tensorflow\n",
    "from tensorflow.keras import  layers\n",
    "from sklearn.preprocessing import StandardScaler #Libreria para estandarizar datos\n",
    "\n",
    "import tensorflow_docs as tfdocs #Dependencias de tensorflow"
   ]
  },
  {
   "cell_type": "code",
   "execution_count": 80,
   "metadata": {
    "pycharm": {
     "name": "#%%\n"
    }
   },
   "outputs": [
    {
     "data": {
      "text/plain": [
       "(4018, 1, 301, 1)"
      ]
     },
     "execution_count": 80,
     "metadata": {},
     "output_type": "execute_result"
    }
   ],
   "source": [
    "#First take the first batch of images to tensors in order to use them.\n",
    "img_train_dir1 = 'D:\\Tomografia\\All_Project\\Images_2'\n",
    "img_train_dir2 = 'D:\\Tomografia\\All_Project\\Images_1'\n",
    "train_imgs = []\n",
    "\n",
    "for img in os.listdir(img_train_dir1):\n",
    "\n",
    "    img = tf.io.read_file(filename=os.path.join(img_train_dir1,img))\n",
    "    img = tf.io.decode_image(img, dtype=tf.dtypes.uint8)\n",
    "    img = tf.keras.preprocessing.image.img_to_array(img)\n",
    "    img /= 255.0\n",
    "    for i in range(41):\n",
    "        train_imgs.append(img[i])\n",
    "\n",
    "for img in os.listdir(img_train_dir2):\n",
    "\n",
    "    img = tf.io.read_file(filename=os.path.join(img_train_dir2,img))\n",
    "    img = tf.io.decode_image(img, dtype=tf.dtypes.uint8)\n",
    "    img = tf.keras.preprocessing.image.img_to_array(img)\n",
    "    img /= 255.0\n",
    "    for i in range(41):\n",
    "        train_imgs.append(img[i])\n",
    "\n",
    "train_imgs_np = np.array(train_imgs)\n",
    "train_imgs_np = np.reshape(train_imgs_np, [-1, 1, 301, 1])\n",
    "\n",
    "train_imgs_np.shape"
   ]
  },
  {
   "cell_type": "code",
   "execution_count": 51,
   "metadata": {
    "pycharm": {
     "name": "#%%\n"
    }
   },
   "outputs": [
    {
     "ename": "NotFoundError",
     "evalue": "NewRandomAccessFile failed to Create/Open: D:\\Tomografia\\All_Project\\Images_2\\2.png : The system cannot find the file specified.\r\n; No such file or directory [Op:ReadFile]",
     "output_type": "error",
     "traceback": [
      "\u001B[1;31m---------------------------------------------------------------------------\u001B[0m",
      "\u001B[1;31mNotFoundError\u001B[0m                             Traceback (most recent call last)",
      "\u001B[1;32m<ipython-input-51-aa5fd4bc96d2>\u001B[0m in \u001B[0;36m<module>\u001B[1;34m\u001B[0m\n\u001B[0;32m      1\u001B[0m \u001B[0mtry_imgs\u001B[0m \u001B[1;33m=\u001B[0m \u001B[1;33m[\u001B[0m\u001B[1;33m]\u001B[0m\u001B[1;33m\u001B[0m\u001B[1;33m\u001B[0m\u001B[0m\n\u001B[1;32m----> 2\u001B[1;33m \u001B[0mtry_img\u001B[0m \u001B[1;33m=\u001B[0m \u001B[0mtf\u001B[0m\u001B[1;33m.\u001B[0m\u001B[0mio\u001B[0m\u001B[1;33m.\u001B[0m\u001B[0mread_file\u001B[0m\u001B[1;33m(\u001B[0m\u001B[0mfilename\u001B[0m\u001B[1;33m=\u001B[0m\u001B[1;34mr'D:\\Tomografia\\All_Project\\Images_2\\2.png'\u001B[0m\u001B[1;33m)\u001B[0m\u001B[1;33m\u001B[0m\u001B[1;33m\u001B[0m\u001B[0m\n\u001B[0m\u001B[0;32m      3\u001B[0m \u001B[0mtry_img\u001B[0m \u001B[1;33m=\u001B[0m \u001B[0mtf\u001B[0m\u001B[1;33m.\u001B[0m\u001B[0mio\u001B[0m\u001B[1;33m.\u001B[0m\u001B[0mdecode_image\u001B[0m\u001B[1;33m(\u001B[0m\u001B[0mtry_img\u001B[0m\u001B[1;33m,\u001B[0m \u001B[0mdtype\u001B[0m\u001B[1;33m=\u001B[0m\u001B[0mtf\u001B[0m\u001B[1;33m.\u001B[0m\u001B[0mdtypes\u001B[0m\u001B[1;33m.\u001B[0m\u001B[0muint8\u001B[0m\u001B[1;33m)\u001B[0m\u001B[1;33m\u001B[0m\u001B[1;33m\u001B[0m\u001B[0m\n\u001B[0;32m      4\u001B[0m \u001B[0mtry_img\u001B[0m \u001B[1;33m=\u001B[0m \u001B[0mtf\u001B[0m\u001B[1;33m.\u001B[0m\u001B[0mkeras\u001B[0m\u001B[1;33m.\u001B[0m\u001B[0mpreprocessing\u001B[0m\u001B[1;33m.\u001B[0m\u001B[0mimage\u001B[0m\u001B[1;33m.\u001B[0m\u001B[0mimg_to_array\u001B[0m\u001B[1;33m(\u001B[0m\u001B[0mtry_img\u001B[0m\u001B[1;33m)\u001B[0m\u001B[1;33m\u001B[0m\u001B[1;33m\u001B[0m\u001B[0m\n\u001B[0;32m      5\u001B[0m \u001B[0mtry_img\u001B[0m \u001B[1;33m/=\u001B[0m \u001B[1;36m255.0\u001B[0m\u001B[1;33m\u001B[0m\u001B[1;33m\u001B[0m\u001B[0m\n",
      "\u001B[1;32m~\\anaconda3\\envs\\DeepKoopa\\lib\\site-packages\\tensorflow_core\\python\\ops\\gen_io_ops.py\u001B[0m in \u001B[0;36mread_file\u001B[1;34m(filename, name)\u001B[0m\n\u001B[0;32m    552\u001B[0m       \u001B[1;32mtry\u001B[0m\u001B[1;33m:\u001B[0m\u001B[1;33m\u001B[0m\u001B[1;33m\u001B[0m\u001B[0m\n\u001B[0;32m    553\u001B[0m         return read_file_eager_fallback(\n\u001B[1;32m--> 554\u001B[1;33m             filename, name=name, ctx=_ctx)\n\u001B[0m\u001B[0;32m    555\u001B[0m       \u001B[1;32mexcept\u001B[0m \u001B[0m_core\u001B[0m\u001B[1;33m.\u001B[0m\u001B[0m_SymbolicException\u001B[0m\u001B[1;33m:\u001B[0m\u001B[1;33m\u001B[0m\u001B[1;33m\u001B[0m\u001B[0m\n\u001B[0;32m    556\u001B[0m         \u001B[1;32mpass\u001B[0m  \u001B[1;31m# Add nodes to the TensorFlow graph.\u001B[0m\u001B[1;33m\u001B[0m\u001B[1;33m\u001B[0m\u001B[0m\n",
      "\u001B[1;32m~\\anaconda3\\envs\\DeepKoopa\\lib\\site-packages\\tensorflow_core\\python\\ops\\gen_io_ops.py\u001B[0m in \u001B[0;36mread_file_eager_fallback\u001B[1;34m(filename, name, ctx)\u001B[0m\n\u001B[0;32m    590\u001B[0m   \u001B[0m_attrs\u001B[0m \u001B[1;33m=\u001B[0m \u001B[1;32mNone\u001B[0m\u001B[1;33m\u001B[0m\u001B[1;33m\u001B[0m\u001B[0m\n\u001B[0;32m    591\u001B[0m   _result = _execute.execute(b\"ReadFile\", 1, inputs=_inputs_flat,\n\u001B[1;32m--> 592\u001B[1;33m                              attrs=_attrs, ctx=ctx, name=name)\n\u001B[0m\u001B[0;32m    593\u001B[0m   \u001B[1;32mif\u001B[0m \u001B[0m_execute\u001B[0m\u001B[1;33m.\u001B[0m\u001B[0mmust_record_gradient\u001B[0m\u001B[1;33m(\u001B[0m\u001B[1;33m)\u001B[0m\u001B[1;33m:\u001B[0m\u001B[1;33m\u001B[0m\u001B[1;33m\u001B[0m\u001B[0m\n\u001B[0;32m    594\u001B[0m     _execute.record_gradient(\n",
      "\u001B[1;32m~\\anaconda3\\envs\\DeepKoopa\\lib\\site-packages\\tensorflow_core\\python\\eager\\execute.py\u001B[0m in \u001B[0;36mquick_execute\u001B[1;34m(op_name, num_outputs, inputs, attrs, ctx, name)\u001B[0m\n\u001B[0;32m     65\u001B[0m     \u001B[1;32melse\u001B[0m\u001B[1;33m:\u001B[0m\u001B[1;33m\u001B[0m\u001B[1;33m\u001B[0m\u001B[0m\n\u001B[0;32m     66\u001B[0m       \u001B[0mmessage\u001B[0m \u001B[1;33m=\u001B[0m \u001B[0me\u001B[0m\u001B[1;33m.\u001B[0m\u001B[0mmessage\u001B[0m\u001B[1;33m\u001B[0m\u001B[1;33m\u001B[0m\u001B[0m\n\u001B[1;32m---> 67\u001B[1;33m     \u001B[0msix\u001B[0m\u001B[1;33m.\u001B[0m\u001B[0mraise_from\u001B[0m\u001B[1;33m(\u001B[0m\u001B[0mcore\u001B[0m\u001B[1;33m.\u001B[0m\u001B[0m_status_to_exception\u001B[0m\u001B[1;33m(\u001B[0m\u001B[0me\u001B[0m\u001B[1;33m.\u001B[0m\u001B[0mcode\u001B[0m\u001B[1;33m,\u001B[0m \u001B[0mmessage\u001B[0m\u001B[1;33m)\u001B[0m\u001B[1;33m,\u001B[0m \u001B[1;32mNone\u001B[0m\u001B[1;33m)\u001B[0m\u001B[1;33m\u001B[0m\u001B[1;33m\u001B[0m\u001B[0m\n\u001B[0m\u001B[0;32m     68\u001B[0m   \u001B[1;32mexcept\u001B[0m \u001B[0mTypeError\u001B[0m \u001B[1;32mas\u001B[0m \u001B[0me\u001B[0m\u001B[1;33m:\u001B[0m\u001B[1;33m\u001B[0m\u001B[1;33m\u001B[0m\u001B[0m\n\u001B[0;32m     69\u001B[0m     keras_symbolic_tensors = [\n",
      "\u001B[1;32m~\\anaconda3\\envs\\DeepKoopa\\lib\\site-packages\\six.py\u001B[0m in \u001B[0;36mraise_from\u001B[1;34m(value, from_value)\u001B[0m\n",
      "\u001B[1;31mNotFoundError\u001B[0m: NewRandomAccessFile failed to Create/Open: D:\\Tomografia\\All_Project\\Images_2\\2.png : The system cannot find the file specified.\r\n; No such file or directory [Op:ReadFile]"
     ]
    }
   ],
   "source": [
    "try_imgs = []\n",
    "try_img = tf.io.read_file(filename=r'D:\\Tomografia\\All_Project\\Images_2\\2.png')\n",
    "try_img = tf.io.decode_image(try_img, dtype=tf.dtypes.uint8)\n",
    "try_img = tf.keras.preprocessing.image.img_to_array(try_img)\n",
    "try_img /= 255.0\n",
    "for i in range(41):\n",
    "    try_imgs.append(try_img[i])\n",
    "try_imgs_np = np.array(try_imgs)\n",
    "try_imgs_np = np.reshape(try_imgs_np, [-1, 1, 301, 1])"
   ]
  },
  {
   "cell_type": "code",
   "execution_count": 52,
   "metadata": {
    "pycharm": {
     "name": "#%%\n"
    }
   },
   "outputs": [
    {
     "data": {
      "text/html": [
       "<div>\n",
       "<style scoped>\n",
       "    .dataframe tbody tr th:only-of-type {\n",
       "        vertical-align: middle;\n",
       "    }\n",
       "\n",
       "    .dataframe tbody tr th {\n",
       "        vertical-align: top;\n",
       "    }\n",
       "\n",
       "    .dataframe thead th {\n",
       "        text-align: right;\n",
       "    }\n",
       "</style>\n",
       "<table border=\"1\" class=\"dataframe\">\n",
       "  <thead>\n",
       "    <tr style=\"text-align: right;\">\n",
       "      <th></th>\n",
       "      <th>Profundidad</th>\n",
       "      <th>Densidad</th>\n",
       "      <th>PEF</th>\n",
       "      <th>Zeff</th>\n",
       "      <th>Porosidad</th>\n",
       "      <th>Permeabilidad</th>\n",
       "    </tr>\n",
       "  </thead>\n",
       "  <tbody>\n",
       "    <tr>\n",
       "      <th>count</th>\n",
       "      <td>106727.000000</td>\n",
       "      <td>106727.000000</td>\n",
       "      <td>106727.000000</td>\n",
       "      <td>106727.000000</td>\n",
       "      <td>4018.000000</td>\n",
       "      <td>4018.000000</td>\n",
       "    </tr>\n",
       "    <tr>\n",
       "      <th>mean</th>\n",
       "      <td>2481.278115</td>\n",
       "      <td>-63.449448</td>\n",
       "      <td>-62.809941</td>\n",
       "      <td>-53.123846</td>\n",
       "      <td>0.128155</td>\n",
       "      <td>1178.282543</td>\n",
       "    </tr>\n",
       "    <tr>\n",
       "      <th>std</th>\n",
       "      <td>1863.746803</td>\n",
       "      <td>248.147334</td>\n",
       "      <td>248.320682</td>\n",
       "      <td>250.889891</td>\n",
       "      <td>0.102004</td>\n",
       "      <td>3213.289923</td>\n",
       "    </tr>\n",
       "    <tr>\n",
       "      <th>min</th>\n",
       "      <td>674.000000</td>\n",
       "      <td>-999.000000</td>\n",
       "      <td>-999.000000</td>\n",
       "      <td>-999.000000</td>\n",
       "      <td>0.008573</td>\n",
       "      <td>0.002762</td>\n",
       "    </tr>\n",
       "    <tr>\n",
       "      <th>25%</th>\n",
       "      <td>750.633243</td>\n",
       "      <td>2.216868</td>\n",
       "      <td>2.029552</td>\n",
       "      <td>12.172757</td>\n",
       "      <td>0.043468</td>\n",
       "      <td>0.068706</td>\n",
       "    </tr>\n",
       "    <tr>\n",
       "      <th>50%</th>\n",
       "      <td>807.724491</td>\n",
       "      <td>2.398254</td>\n",
       "      <td>2.661010</td>\n",
       "      <td>13.124068</td>\n",
       "      <td>0.086203</td>\n",
       "      <td>1.016259</td>\n",
       "    </tr>\n",
       "    <tr>\n",
       "      <th>75%</th>\n",
       "      <td>4305.348220</td>\n",
       "      <td>2.483573</td>\n",
       "      <td>3.360385</td>\n",
       "      <td>14.002938</td>\n",
       "      <td>0.200881</td>\n",
       "      <td>139.249392</td>\n",
       "    </tr>\n",
       "    <tr>\n",
       "      <th>max</th>\n",
       "      <td>4786.018373</td>\n",
       "      <td>5.299557</td>\n",
       "      <td>19.725271</td>\n",
       "      <td>22.894365</td>\n",
       "      <td>0.366091</td>\n",
       "      <td>18157.475410</td>\n",
       "    </tr>\n",
       "  </tbody>\n",
       "</table>\n",
       "</div>"
      ],
      "text/plain": [
       "         Profundidad       Densidad            PEF           Zeff  \\\n",
       "count  106727.000000  106727.000000  106727.000000  106727.000000   \n",
       "mean     2481.278115     -63.449448     -62.809941     -53.123846   \n",
       "std      1863.746803     248.147334     248.320682     250.889891   \n",
       "min       674.000000    -999.000000    -999.000000    -999.000000   \n",
       "25%       750.633243       2.216868       2.029552      12.172757   \n",
       "50%       807.724491       2.398254       2.661010      13.124068   \n",
       "75%      4305.348220       2.483573       3.360385      14.002938   \n",
       "max      4786.018373       5.299557      19.725271      22.894365   \n",
       "\n",
       "         Porosidad  Permeabilidad  \n",
       "count  4018.000000    4018.000000  \n",
       "mean      0.128155    1178.282543  \n",
       "std       0.102004    3213.289923  \n",
       "min       0.008573       0.002762  \n",
       "25%       0.043468       0.068706  \n",
       "50%       0.086203       1.016259  \n",
       "75%       0.200881     139.249392  \n",
       "max       0.366091   18157.475410  "
      ]
     },
     "execution_count": 52,
     "metadata": {},
     "output_type": "execute_result"
    }
   ],
   "source": [
    "df = pd.read_csv('D:\\Tomografia\\All_Project\\merged_logs.csv')\n",
    "df.describe()"
   ]
  },
  {
   "cell_type": "code",
   "execution_count": 53,
   "metadata": {
    "pycharm": {
     "name": "#%%\n"
    }
   },
   "outputs": [
    {
     "data": {
      "text/html": [
       "<div>\n",
       "<style scoped>\n",
       "    .dataframe tbody tr th:only-of-type {\n",
       "        vertical-align: middle;\n",
       "    }\n",
       "\n",
       "    .dataframe tbody tr th {\n",
       "        vertical-align: top;\n",
       "    }\n",
       "\n",
       "    .dataframe thead th {\n",
       "        text-align: right;\n",
       "    }\n",
       "</style>\n",
       "<table border=\"1\" class=\"dataframe\">\n",
       "  <thead>\n",
       "    <tr style=\"text-align: right;\">\n",
       "      <th></th>\n",
       "      <th>Profundidad</th>\n",
       "      <th>Densidad</th>\n",
       "      <th>PEF</th>\n",
       "      <th>Zeff</th>\n",
       "      <th>Porosidad</th>\n",
       "      <th>Permeabilidad</th>\n",
       "    </tr>\n",
       "  </thead>\n",
       "  <tbody>\n",
       "    <tr>\n",
       "      <th>count</th>\n",
       "      <td>99712.000000</td>\n",
       "      <td>99712.000000</td>\n",
       "      <td>99712.000000</td>\n",
       "      <td>99712.000000</td>\n",
       "      <td>4018.000000</td>\n",
       "      <td>4018.000000</td>\n",
       "    </tr>\n",
       "    <tr>\n",
       "      <th>mean</th>\n",
       "      <td>2485.475258</td>\n",
       "      <td>2.368980</td>\n",
       "      <td>3.053478</td>\n",
       "      <td>13.421015</td>\n",
       "      <td>0.128155</td>\n",
       "      <td>1178.282543</td>\n",
       "    </tr>\n",
       "    <tr>\n",
       "      <th>std</th>\n",
       "      <td>1868.661274</td>\n",
       "      <td>0.243902</td>\n",
       "      <td>1.427906</td>\n",
       "      <td>1.444801</td>\n",
       "      <td>0.102004</td>\n",
       "      <td>3213.289923</td>\n",
       "    </tr>\n",
       "    <tr>\n",
       "      <th>min</th>\n",
       "      <td>674.016404</td>\n",
       "      <td>1.002680</td>\n",
       "      <td>0.375440</td>\n",
       "      <td>7.617576</td>\n",
       "      <td>0.008573</td>\n",
       "      <td>0.002762</td>\n",
       "    </tr>\n",
       "    <tr>\n",
       "      <th>25%</th>\n",
       "      <td>751.392450</td>\n",
       "      <td>2.270224</td>\n",
       "      <td>2.141373</td>\n",
       "      <td>12.355462</td>\n",
       "      <td>0.043468</td>\n",
       "      <td>0.068706</td>\n",
       "    </tr>\n",
       "    <tr>\n",
       "      <th>50%</th>\n",
       "      <td>807.908013</td>\n",
       "      <td>2.409777</td>\n",
       "      <td>2.737679</td>\n",
       "      <td>13.228029</td>\n",
       "      <td>0.086203</td>\n",
       "      <td>1.016259</td>\n",
       "    </tr>\n",
       "    <tr>\n",
       "      <th>75%</th>\n",
       "      <td>4307.523396</td>\n",
       "      <td>2.488105</td>\n",
       "      <td>3.423617</td>\n",
       "      <td>14.075639</td>\n",
       "      <td>0.200881</td>\n",
       "      <td>139.249392</td>\n",
       "    </tr>\n",
       "    <tr>\n",
       "      <th>max</th>\n",
       "      <td>4786.008120</td>\n",
       "      <td>5.299557</td>\n",
       "      <td>19.725271</td>\n",
       "      <td>22.894365</td>\n",
       "      <td>0.366091</td>\n",
       "      <td>18157.475410</td>\n",
       "    </tr>\n",
       "  </tbody>\n",
       "</table>\n",
       "</div>"
      ],
      "text/plain": [
       "        Profundidad      Densidad           PEF          Zeff    Porosidad  \\\n",
       "count  99712.000000  99712.000000  99712.000000  99712.000000  4018.000000   \n",
       "mean    2485.475258      2.368980      3.053478     13.421015     0.128155   \n",
       "std     1868.661274      0.243902      1.427906      1.444801     0.102004   \n",
       "min      674.016404      1.002680      0.375440      7.617576     0.008573   \n",
       "25%      751.392450      2.270224      2.141373     12.355462     0.043468   \n",
       "50%      807.908013      2.409777      2.737679     13.228029     0.086203   \n",
       "75%     4307.523396      2.488105      3.423617     14.075639     0.200881   \n",
       "max     4786.008120      5.299557     19.725271     22.894365     0.366091   \n",
       "\n",
       "       Permeabilidad  \n",
       "count    4018.000000  \n",
       "mean     1178.282543  \n",
       "std      3213.289923  \n",
       "min         0.002762  \n",
       "25%         0.068706  \n",
       "50%         1.016259  \n",
       "75%       139.249392  \n",
       "max     18157.475410  "
      ]
     },
     "execution_count": 53,
     "metadata": {},
     "output_type": "execute_result"
    }
   ],
   "source": [
    "df.isnull().sum(axis = 0)\n",
    "df = df.drop(df[df['PEF']<0].index)\n",
    "df.describe()"
   ]
  },
  {
   "cell_type": "code",
   "execution_count": 54,
   "metadata": {
    "pycharm": {
     "name": "#%%\n"
    }
   },
   "outputs": [],
   "source": [
    "df = df.dropna()"
   ]
  },
  {
   "cell_type": "code",
   "execution_count": 55,
   "metadata": {
    "pycharm": {
     "name": "#%%\n"
    }
   },
   "outputs": [
    {
     "data": {
      "text/html": [
       "<div>\n",
       "<style scoped>\n",
       "    .dataframe tbody tr th:only-of-type {\n",
       "        vertical-align: middle;\n",
       "    }\n",
       "\n",
       "    .dataframe tbody tr th {\n",
       "        vertical-align: top;\n",
       "    }\n",
       "\n",
       "    .dataframe thead th {\n",
       "        text-align: right;\n",
       "    }\n",
       "</style>\n",
       "<table border=\"1\" class=\"dataframe\">\n",
       "  <thead>\n",
       "    <tr style=\"text-align: right;\">\n",
       "      <th></th>\n",
       "      <th>Densidad</th>\n",
       "      <th>PEF</th>\n",
       "      <th>Zeff</th>\n",
       "      <th>Porosidad</th>\n",
       "      <th>Permeabilidad</th>\n",
       "    </tr>\n",
       "  </thead>\n",
       "  <tbody>\n",
       "    <tr>\n",
       "      <th>count</th>\n",
       "      <td>4018.000000</td>\n",
       "      <td>4018.000000</td>\n",
       "      <td>4018.000000</td>\n",
       "      <td>4018.000000</td>\n",
       "      <td>4018.000000</td>\n",
       "    </tr>\n",
       "    <tr>\n",
       "      <th>mean</th>\n",
       "      <td>2.397014</td>\n",
       "      <td>3.023744</td>\n",
       "      <td>13.372327</td>\n",
       "      <td>0.128155</td>\n",
       "      <td>1178.282543</td>\n",
       "    </tr>\n",
       "    <tr>\n",
       "      <th>std</th>\n",
       "      <td>0.298877</td>\n",
       "      <td>1.437292</td>\n",
       "      <td>1.478697</td>\n",
       "      <td>0.102004</td>\n",
       "      <td>3213.289923</td>\n",
       "    </tr>\n",
       "    <tr>\n",
       "      <th>min</th>\n",
       "      <td>1.985576</td>\n",
       "      <td>1.735389</td>\n",
       "      <td>11.654648</td>\n",
       "      <td>0.008573</td>\n",
       "      <td>0.002762</td>\n",
       "    </tr>\n",
       "    <tr>\n",
       "      <th>25%</th>\n",
       "      <td>2.268632</td>\n",
       "      <td>2.029940</td>\n",
       "      <td>12.173402</td>\n",
       "      <td>0.043468</td>\n",
       "      <td>0.068706</td>\n",
       "    </tr>\n",
       "    <tr>\n",
       "      <th>50%</th>\n",
       "      <td>2.411114</td>\n",
       "      <td>2.632301</td>\n",
       "      <td>13.084582</td>\n",
       "      <td>0.086203</td>\n",
       "      <td>1.016259</td>\n",
       "    </tr>\n",
       "    <tr>\n",
       "      <th>75%</th>\n",
       "      <td>2.483558</td>\n",
       "      <td>3.482450</td>\n",
       "      <td>14.142415</td>\n",
       "      <td>0.200881</td>\n",
       "      <td>139.249392</td>\n",
       "    </tr>\n",
       "    <tr>\n",
       "      <th>max</th>\n",
       "      <td>5.167703</td>\n",
       "      <td>10.263746</td>\n",
       "      <td>19.094940</td>\n",
       "      <td>0.366091</td>\n",
       "      <td>18157.475410</td>\n",
       "    </tr>\n",
       "  </tbody>\n",
       "</table>\n",
       "</div>"
      ],
      "text/plain": [
       "          Densidad          PEF         Zeff    Porosidad  Permeabilidad\n",
       "count  4018.000000  4018.000000  4018.000000  4018.000000    4018.000000\n",
       "mean      2.397014     3.023744    13.372327     0.128155    1178.282543\n",
       "std       0.298877     1.437292     1.478697     0.102004    3213.289923\n",
       "min       1.985576     1.735389    11.654648     0.008573       0.002762\n",
       "25%       2.268632     2.029940    12.173402     0.043468       0.068706\n",
       "50%       2.411114     2.632301    13.084582     0.086203       1.016259\n",
       "75%       2.483558     3.482450    14.142415     0.200881     139.249392\n",
       "max       5.167703    10.263746    19.094940     0.366091   18157.475410"
      ]
     },
     "execution_count": 55,
     "metadata": {},
     "output_type": "execute_result"
    }
   ],
   "source": [
    "#Analisis de la informacion\n",
    "df_numerico = df.drop(['Core', 'Seccion', 'Profundidad'], axis=1)\n",
    "df_numerico.describe()"
   ]
  },
  {
   "cell_type": "code",
   "execution_count": 56,
   "metadata": {
    "pycharm": {
     "name": "#%%\n"
    }
   },
   "outputs": [
    {
     "data": {
      "image/png": "[encoded data removed]",
      "text/plain": [
       "<Figure size 720x576 with 1 Axes>"
      ]
     },
     "metadata": {
      "needs_background": "light"
     },
     "output_type": "display_data"
    }
   ],
   "source": [
    "plt.figure(figsize=(10,8))\n",
    "df.boxplot('Permeabilidad')\n",
    "plt.show()"
   ]
  },
  {
   "cell_type": "code",
   "execution_count": 57,
   "metadata": {
    "pycharm": {
     "name": "#%%\n"
    }
   },
   "outputs": [],
   "source": [
    "porosity_target = df_numerico[['Porosidad']]\n",
    "numerical_features = df_numerico[['Densidad', 'PEF', 'Zeff']]\n",
    "imgs_features = train_imgs_np"
   ]
  },
  {
   "cell_type": "code",
   "execution_count": 58,
   "metadata": {
    "pycharm": {
     "name": "#%%\n"
    }
   },
   "outputs": [
    {
     "data": {
      "text/html": [
       "<div>\n",
       "<style scoped>\n",
       "    .dataframe tbody tr th:only-of-type {\n",
       "        vertical-align: middle;\n",
       "    }\n",
       "\n",
       "    .dataframe tbody tr th {\n",
       "        vertical-align: top;\n",
       "    }\n",
       "\n",
       "    .dataframe thead th {\n",
       "        text-align: right;\n",
       "    }\n",
       "</style>\n",
       "<table border=\"1\" class=\"dataframe\">\n",
       "  <thead>\n",
       "    <tr style=\"text-align: right;\">\n",
       "      <th></th>\n",
       "      <th>Densidad</th>\n",
       "      <th>PEF</th>\n",
       "      <th>Zeff</th>\n",
       "    </tr>\n",
       "  </thead>\n",
       "  <tbody>\n",
       "    <tr>\n",
       "      <th>count</th>\n",
       "      <td>4.018000e+03</td>\n",
       "      <td>4.018000e+03</td>\n",
       "      <td>4.018000e+03</td>\n",
       "    </tr>\n",
       "    <tr>\n",
       "      <th>mean</th>\n",
       "      <td>1.556191e-15</td>\n",
       "      <td>9.903035e-17</td>\n",
       "      <td>1.697663e-16</td>\n",
       "    </tr>\n",
       "    <tr>\n",
       "      <th>std</th>\n",
       "      <td>1.000124e+00</td>\n",
       "      <td>1.000124e+00</td>\n",
       "      <td>1.000124e+00</td>\n",
       "    </tr>\n",
       "    <tr>\n",
       "      <th>min</th>\n",
       "      <td>-1.376783e+00</td>\n",
       "      <td>-8.964881e-01</td>\n",
       "      <td>-1.161761e+00</td>\n",
       "    </tr>\n",
       "    <tr>\n",
       "      <th>25%</th>\n",
       "      <td>-4.296025e-01</td>\n",
       "      <td>-6.915282e-01</td>\n",
       "      <td>-8.108991e-01</td>\n",
       "    </tr>\n",
       "    <tr>\n",
       "      <th>50%</th>\n",
       "      <td>4.718288e-02</td>\n",
       "      <td>-2.723813e-01</td>\n",
       "      <td>-1.946178e-01</td>\n",
       "    </tr>\n",
       "    <tr>\n",
       "      <th>75%</th>\n",
       "      <td>2.895989e-01</td>\n",
       "      <td>3.191856e-01</td>\n",
       "      <td>5.208524e-01</td>\n",
       "    </tr>\n",
       "    <tr>\n",
       "      <th>max</th>\n",
       "      <td>9.271474e+00</td>\n",
       "      <td>5.037880e+00</td>\n",
       "      <td>3.870519e+00</td>\n",
       "    </tr>\n",
       "  </tbody>\n",
       "</table>\n",
       "</div>"
      ],
      "text/plain": [
       "           Densidad           PEF          Zeff\n",
       "count  4.018000e+03  4.018000e+03  4.018000e+03\n",
       "mean   1.556191e-15  9.903035e-17  1.697663e-16\n",
       "std    1.000124e+00  1.000124e+00  1.000124e+00\n",
       "min   -1.376783e+00 -8.964881e-01 -1.161761e+00\n",
       "25%   -4.296025e-01 -6.915282e-01 -8.108991e-01\n",
       "50%    4.718288e-02 -2.723813e-01 -1.946178e-01\n",
       "75%    2.895989e-01  3.191856e-01  5.208524e-01\n",
       "max    9.271474e+00  5.037880e+00  3.870519e+00"
      ]
     },
     "execution_count": 58,
     "metadata": {},
     "output_type": "execute_result"
    }
   ],
   "source": [
    "#Procesar los inputs\n",
    "standardScaler = StandardScaler()\n",
    "\n",
    "features_procesados = pd.DataFrame(standardScaler.fit_transform(numerical_features),\n",
    "                      columns=numerical_features.columns,\n",
    "                      index= numerical_features.index)\n",
    "features_procesados.describe()"
   ]
  },
  {
   "cell_type": "code",
   "execution_count": 59,
   "metadata": {
    "pycharm": {
     "name": "#%%\n"
    }
   },
   "outputs": [],
   "source": [
    "from sklearn.model_selection import train_test_split\n",
    "train_numerical, test_numerical, train_images, test_images, train_target, test_target = train_test_split(features_procesados,\n",
    "                                                                                                         imgs_features,\n",
    "                                                                                                         porosity_target,\n",
    "                                                                                                         test_size=0.2,\n",
    "                                                                                                         random_state=0)"
   ]
  },
  {
   "cell_type": "code",
   "execution_count": 60,
   "metadata": {
    "pycharm": {
     "name": "#%%\n"
    }
   },
   "outputs": [
    {
     "name": "stdout",
     "output_type": "stream",
     "text": [
      "The shape of the training sets are  (3214, 3) (3214, 1, 301, 1) (3214, 1)\n"
     ]
    }
   ],
   "source": [
    "print('The shape of the training sets are ',\n",
    "      train_numerical.shape,\n",
    "      train_images.shape,\n",
    "      train_target.shape)\n"
   ]
  },
  {
   "cell_type": "code",
   "execution_count": 61,
   "metadata": {
    "pycharm": {
     "name": "#%%\n"
    }
   },
   "outputs": [
    {
     "name": "stdout",
     "output_type": "stream",
     "text": [
      "The shape of the test sets are  (804, 3) (804, 1, 301, 1) (3214, 1)\n"
     ]
    },
    {
     "data": {
      "text/plain": [
       "(1, 301, 1)"
      ]
     },
     "execution_count": 61,
     "metadata": {},
     "output_type": "execute_result"
    }
   ],
   "source": [
    "print('The shape of the test sets are ',\n",
    "      test_numerical.shape,\n",
    "      test_images.shape,\n",
    "      train_target.shape)\n",
    "train_images[0].shape"
   ]
  },
  {
   "cell_type": "code",
   "execution_count": 62,
   "metadata": {
    "pycharm": {
     "name": "#%%\n"
    }
   },
   "outputs": [],
   "source": [
    "##CNN model for the images\n",
    "conv_model = tf.keras.models.Sequential([\n",
    "\n",
    "    layers.Conv2D(16, (3,3), padding='same', activation='relu',\n",
    "                  input_shape=train_images[0].shape),\n",
    "    layers.MaxPooling2D(pool_size=(1,2)),\n",
    "    layers.BatchNormalization(axis=-1),\n",
    "    layers.Conv2D(32, (3,3),padding='same', activation='relu'),\n",
    "    layers.MaxPooling2D(pool_size=(1,2)),\n",
    "    layers.Conv2D(64, (3,3),padding='same', activation='relu'),\n",
    "    layers.Dropout(0.2),\n",
    "\n",
    "    layers.Flatten(),\n",
    "\n",
    "    layers.Dense(512, activation='relu'),\n",
    "    layers.Dense(256, activation='relu'),\n",
    "    layers.Dense(128, activation='relu'),\n",
    "    layers.Dense(4, activation='relu')\n",
    "\n",
    "])"
   ]
  },
  {
   "cell_type": "code",
   "execution_count": 63,
   "metadata": {
    "pycharm": {
     "name": "#%%\n"
    }
   },
   "outputs": [],
   "source": [
    "## Regression model for the numerical features\n",
    "reg_model = tf.keras.models.Sequential([\n",
    "    layers.Dense(32, activation='relu', input_shape=[len(numerical_features.keys())]),\n",
    "    layers.Dense(64, activation='relu'),\n",
    "    layers.Dense(128, activation='relu'),\n",
    "    layers.Dense(256, activation='relu'),\n",
    "    layers.Dense(128, activation='relu'),\n",
    "    layers.Dense(64, activation='relu'),\n",
    "    layers.Dense(32, activation='relu'),\n",
    "\n",
    "    layers.Dense(16, activation='relu'),\n",
    "    layers.Dropout(0.15),\n",
    "\n",
    "    layers.Dense(4, activation='relu')\n",
    "\n",
    "\n",
    "])"
   ]
  },
  {
   "cell_type": "code",
   "execution_count": 64,
   "metadata": {
    "pycharm": {
     "name": "#%%\n"
    }
   },
   "outputs": [],
   "source": [
    "# Combined model\n",
    "combined_input = layers.concatenate([reg_model.output, conv_model.output])\n",
    "x = layers.Dense(4, activation='relu')(combined_input)\n",
    "x = layers.Dense(2, activation='relu')(x)\n",
    "x = layers.Dense(1)(x)"
   ]
  },
  {
   "cell_type": "code",
   "execution_count": 65,
   "metadata": {
    "pycharm": {
     "name": "#%%\n"
    }
   },
   "outputs": [],
   "source": [
    "combined_model = tf.keras.models.Model(inputs=[reg_model.input, conv_model.input],\n",
    "                                       outputs = x)\n"
   ]
  },
  {
   "cell_type": "code",
   "execution_count": 66,
   "metadata": {
    "pycharm": {
     "name": "#%%\n"
    }
   },
   "outputs": [
    {
     "name": "stdout",
     "output_type": "stream",
     "text": [
      "Model: \"model_2\"\n",
      "__________________________________________________________________________________________________\n",
      "Layer (type)                    Output Shape         Param #     Connected to                     \n",
      "==================================================================================================\n",
      "conv2d_6_input (InputLayer)     [(None, 1, 301, 1)]  0                                            \n",
      "__________________________________________________________________________________________________\n",
      "conv2d_6 (Conv2D)               (None, 1, 301, 16)   160         conv2d_6_input[0][0]             \n",
      "__________________________________________________________________________________________________\n",
      "dense_36_input (InputLayer)     [(None, 3)]          0                                            \n",
      "__________________________________________________________________________________________________\n",
      "max_pooling2d_4 (MaxPooling2D)  (None, 1, 150, 16)   0           conv2d_6[0][0]                   \n",
      "__________________________________________________________________________________________________\n",
      "dense_36 (Dense)                (None, 32)           128         dense_36_input[0][0]             \n",
      "__________________________________________________________________________________________________\n",
      "batch_normalization_2 (BatchNor (None, 1, 150, 16)   64          max_pooling2d_4[0][0]            \n",
      "__________________________________________________________________________________________________\n",
      "dense_37 (Dense)                (None, 64)           2112        dense_36[0][0]                   \n",
      "__________________________________________________________________________________________________\n",
      "conv2d_7 (Conv2D)               (None, 1, 150, 32)   4640        batch_normalization_2[0][0]      \n",
      "__________________________________________________________________________________________________\n",
      "dense_38 (Dense)                (None, 128)          8320        dense_37[0][0]                   \n",
      "__________________________________________________________________________________________________\n",
      "max_pooling2d_5 (MaxPooling2D)  (None, 1, 75, 32)    0           conv2d_7[0][0]                   \n",
      "__________________________________________________________________________________________________\n",
      "dense_39 (Dense)                (None, 256)          33024       dense_38[0][0]                   \n",
      "__________________________________________________________________________________________________\n",
      "conv2d_8 (Conv2D)               (None, 1, 75, 64)    18496       max_pooling2d_5[0][0]            \n",
      "__________________________________________________________________________________________________\n",
      "dense_40 (Dense)                (None, 128)          32896       dense_39[0][0]                   \n",
      "__________________________________________________________________________________________________\n",
      "dropout_4 (Dropout)             (None, 1, 75, 64)    0           conv2d_8[0][0]                   \n",
      "__________________________________________________________________________________________________\n",
      "dense_41 (Dense)                (None, 64)           8256        dense_40[0][0]                   \n",
      "__________________________________________________________________________________________________\n",
      "flatten_2 (Flatten)             (None, 4800)         0           dropout_4[0][0]                  \n",
      "__________________________________________________________________________________________________\n",
      "dense_42 (Dense)                (None, 32)           2080        dense_41[0][0]                   \n",
      "__________________________________________________________________________________________________\n",
      "dense_32 (Dense)                (None, 512)          2458112     flatten_2[0][0]                  \n",
      "__________________________________________________________________________________________________\n",
      "dense_43 (Dense)                (None, 16)           528         dense_42[0][0]                   \n",
      "__________________________________________________________________________________________________\n",
      "dense_33 (Dense)                (None, 256)          131328      dense_32[0][0]                   \n",
      "__________________________________________________________________________________________________\n",
      "dropout_5 (Dropout)             (None, 16)           0           dense_43[0][0]                   \n",
      "__________________________________________________________________________________________________\n",
      "dense_34 (Dense)                (None, 128)          32896       dense_33[0][0]                   \n",
      "__________________________________________________________________________________________________\n",
      "dense_44 (Dense)                (None, 4)            68          dropout_5[0][0]                  \n",
      "__________________________________________________________________________________________________\n",
      "dense_35 (Dense)                (None, 4)            516         dense_34[0][0]                   \n",
      "__________________________________________________________________________________________________\n",
      "concatenate_2 (Concatenate)     (None, 8)            0           dense_44[0][0]                   \n",
      "                                                                 dense_35[0][0]                   \n",
      "__________________________________________________________________________________________________\n",
      "dense_45 (Dense)                (None, 4)            36          concatenate_2[0][0]              \n",
      "__________________________________________________________________________________________________\n",
      "dense_46 (Dense)                (None, 2)            10          dense_45[0][0]                   \n",
      "__________________________________________________________________________________________________\n",
      "dense_47 (Dense)                (None, 1)            3           dense_46[0][0]                   \n",
      "==================================================================================================\n",
      "Total params: 2,733,673\n",
      "Trainable params: 2,733,641\n",
      "Non-trainable params: 32\n",
      "__________________________________________________________________________________________________\n"
     ]
    }
   ],
   "source": [
    "combined_model.compile(loss=\"mse\",\n",
    "                       optimizer=keras.optimizers.Adam(0.001),\n",
    "                       metrics=['mae','mse'])\n",
    "combined_model.summary()"
   ]
  },
  {
   "cell_type": "code",
   "execution_count": 67,
   "metadata": {
    "pycharm": {
     "name": "#%%\n"
    }
   },
   "outputs": [],
   "source": [
    "import datetime\n",
    "keras.utils.plot_model(combined_model, 'combined_model_poro.png', show_shapes=True)\n",
    "\n",
    "log_dir = \"Tensorboard\\\\poro_logs\\\\\" + datetime.datetime.now().strftime(\"%Y%m%d-%H%M%S\")\n",
    "tensorboard_callback = tf.keras.callbacks.TensorBoard(log_dir=log_dir, histogram_freq=1)"
   ]
  },
  {
   "cell_type": "code",
   "execution_count": 68,
   "metadata": {
    "pycharm": {
     "name": "#%%\n"
    }
   },
   "outputs": [
    {
     "name": "stdout",
     "output_type": "stream",
     "text": [
      "[INFO] training model...\n",
      "WARNING:tensorflow:Method (on_train_batch_end) is slow compared to the batch update (0.507411). Check your callbacks.\n",
      "[INFO] TRAINED FINISHED\n"
     ]
    }
   ],
   "source": [
    "print(\"[INFO] training model...\")\n",
    "trainig_hist = combined_model.fit(x=[train_numerical, train_images], y=train_target,\n",
    "\t                              validation_split= 0.23,\n",
    "\t                              epochs=300, batch_size=8,\n",
    "                                  verbose = False,\n",
    "                                  callbacks=[tensorboard_callback])\n",
    "print(\"[INFO] TRAINED FINISHED\")"
   ]
  },
  {
   "cell_type": "code",
   "execution_count": 69,
   "metadata": {
    "pycharm": {
     "name": "#%%\n"
    }
   },
   "outputs": [
    {
     "data": {
      "text/html": [
       "<div>\n",
       "<style scoped>\n",
       "    .dataframe tbody tr th:only-of-type {\n",
       "        vertical-align: middle;\n",
       "    }\n",
       "\n",
       "    .dataframe tbody tr th {\n",
       "        vertical-align: top;\n",
       "    }\n",
       "\n",
       "    .dataframe thead th {\n",
       "        text-align: right;\n",
       "    }\n",
       "</style>\n",
       "<table border=\"1\" class=\"dataframe\">\n",
       "  <thead>\n",
       "    <tr style=\"text-align: right;\">\n",
       "      <th></th>\n",
       "      <th>loss</th>\n",
       "      <th>mae</th>\n",
       "      <th>mse</th>\n",
       "      <th>val_loss</th>\n",
       "      <th>val_mae</th>\n",
       "      <th>val_mse</th>\n",
       "      <th>epoch</th>\n",
       "    </tr>\n",
       "  </thead>\n",
       "  <tbody>\n",
       "    <tr>\n",
       "      <th>295</th>\n",
       "      <td>0.000004</td>\n",
       "      <td>0.001492</td>\n",
       "      <td>0.000004</td>\n",
       "      <td>0.000037</td>\n",
       "      <td>0.004058</td>\n",
       "      <td>0.000037</td>\n",
       "      <td>295</td>\n",
       "    </tr>\n",
       "    <tr>\n",
       "      <th>296</th>\n",
       "      <td>0.000004</td>\n",
       "      <td>0.001413</td>\n",
       "      <td>0.000004</td>\n",
       "      <td>0.000038</td>\n",
       "      <td>0.004063</td>\n",
       "      <td>0.000038</td>\n",
       "      <td>296</td>\n",
       "    </tr>\n",
       "    <tr>\n",
       "      <th>297</th>\n",
       "      <td>0.000004</td>\n",
       "      <td>0.001387</td>\n",
       "      <td>0.000004</td>\n",
       "      <td>0.000035</td>\n",
       "      <td>0.003936</td>\n",
       "      <td>0.000035</td>\n",
       "      <td>297</td>\n",
       "    </tr>\n",
       "    <tr>\n",
       "      <th>298</th>\n",
       "      <td>0.000003</td>\n",
       "      <td>0.001262</td>\n",
       "      <td>0.000003</td>\n",
       "      <td>0.000035</td>\n",
       "      <td>0.004108</td>\n",
       "      <td>0.000035</td>\n",
       "      <td>298</td>\n",
       "    </tr>\n",
       "    <tr>\n",
       "      <th>299</th>\n",
       "      <td>0.000003</td>\n",
       "      <td>0.001308</td>\n",
       "      <td>0.000003</td>\n",
       "      <td>0.000034</td>\n",
       "      <td>0.003888</td>\n",
       "      <td>0.000034</td>\n",
       "      <td>299</td>\n",
       "    </tr>\n",
       "  </tbody>\n",
       "</table>\n",
       "</div>"
      ],
      "text/plain": [
       "         loss       mae       mse  val_loss   val_mae   val_mse  epoch\n",
       "295  0.000004  0.001492  0.000004  0.000037  0.004058  0.000037    295\n",
       "296  0.000004  0.001413  0.000004  0.000038  0.004063  0.000038    296\n",
       "297  0.000004  0.001387  0.000004  0.000035  0.003936  0.000035    297\n",
       "298  0.000003  0.001262  0.000003  0.000035  0.004108  0.000035    298\n",
       "299  0.000003  0.001308  0.000003  0.000034  0.003888  0.000034    299"
      ]
     },
     "execution_count": 69,
     "metadata": {},
     "output_type": "execute_result"
    }
   ],
   "source": [
    "training_hist_df = pd.DataFrame(trainig_hist.history)\n",
    "\n",
    "training_hist_df['epoch'] = trainig_hist.epoch\n",
    "\n",
    "training_hist_df.tail()\n"
   ]
  },
  {
   "cell_type": "code",
   "execution_count": 70,
   "metadata": {
    "pycharm": {
     "name": "#%%\n"
    }
   },
   "outputs": [
    {
     "data": {
      "image/png": "[encoded data removed]",
      "text/plain": [
       "<Figure size 720x576 with 1 Axes>"
      ]
     },
     "metadata": {
      "needs_background": "light"
     },
     "output_type": "display_data"
    }
   ],
   "source": [
    "import tensorflow_docs.plots\n",
    "\n",
    "plotter = tfdocs.plots.HistoryPlotter(smoothing_std=2)\n",
    "plt.figure(figsize=(10,8))\n",
    "plotter.plot({'Basic':trainig_hist}, metric=\"mae\")\n",
    "\n",
    "plt.ylabel('MAE [Charges]')\n",
    "\n",
    "plt.show()"
   ]
  },
  {
   "cell_type": "code",
   "execution_count": 71,
   "metadata": {
    "pycharm": {
     "name": "#%%\n"
    }
   },
   "outputs": [
    {
     "data": {
      "image/png": "[encoded data removed]",
      "text/plain": [
       "<Figure size 720x576 with 1 Axes>"
      ]
     },
     "metadata": {
      "needs_background": "light"
     },
     "output_type": "display_data"
    }
   ],
   "source": [
    "plt.figure(figsize=(10,8))\n",
    "\n",
    "plotter.plot({'Basic':trainig_hist},metric='mse')\n",
    "plt.ylabel('MSE [Charges^2]')\n",
    "plt.show()\n"
   ]
  },
  {
   "cell_type": "code",
   "execution_count": 72,
   "metadata": {
    "pycharm": {
     "name": "#%%\n"
    }
   },
   "outputs": [
    {
     "data": {
      "image/png": "[encoded data removed]",
      "text/plain": [
       "<Figure size 720x576 with 1 Axes>"
      ]
     },
     "metadata": {
      "needs_background": "light"
     },
     "output_type": "display_data"
    }
   ],
   "source": [
    "y_pred = combined_model.predict([test_numerical, test_images])\n",
    "\n",
    "plt.figure(figsize=(10,8))\n",
    "\n",
    "plt.scatter(test_target, y_pred, s=400, c='red')\n",
    "\n",
    "plt.xlabel('Actual charges values')\n",
    "plt.ylabel('Predicted charges values')\n",
    "plt.show()"
   ]
  },
  {
   "cell_type": "code",
   "execution_count": 73,
   "metadata": {
    "pycharm": {
     "name": "#%%\n"
    }
   },
   "outputs": [
    {
     "data": {
      "text/html": [
       "<div>\n",
       "<style scoped>\n",
       "    .dataframe tbody tr th:only-of-type {\n",
       "        vertical-align: middle;\n",
       "    }\n",
       "\n",
       "    .dataframe tbody tr th {\n",
       "        vertical-align: top;\n",
       "    }\n",
       "\n",
       "    .dataframe thead th {\n",
       "        text-align: right;\n",
       "    }\n",
       "</style>\n",
       "<table border=\"1\" class=\"dataframe\">\n",
       "  <thead>\n",
       "    <tr style=\"text-align: right;\">\n",
       "      <th></th>\n",
       "      <th>0</th>\n",
       "    </tr>\n",
       "  </thead>\n",
       "  <tbody>\n",
       "    <tr>\n",
       "      <th>0</th>\n",
       "      <td>0.029902</td>\n",
       "    </tr>\n",
       "    <tr>\n",
       "      <th>1</th>\n",
       "      <td>0.080350</td>\n",
       "    </tr>\n",
       "    <tr>\n",
       "      <th>2</th>\n",
       "      <td>0.034610</td>\n",
       "    </tr>\n",
       "    <tr>\n",
       "      <th>3</th>\n",
       "      <td>0.280796</td>\n",
       "    </tr>\n",
       "    <tr>\n",
       "      <th>4</th>\n",
       "      <td>0.267783</td>\n",
       "    </tr>\n",
       "    <tr>\n",
       "      <th>5</th>\n",
       "      <td>0.284386</td>\n",
       "    </tr>\n",
       "    <tr>\n",
       "      <th>6</th>\n",
       "      <td>0.296953</td>\n",
       "    </tr>\n",
       "    <tr>\n",
       "      <th>7</th>\n",
       "      <td>0.032330</td>\n",
       "    </tr>\n",
       "    <tr>\n",
       "      <th>8</th>\n",
       "      <td>0.040978</td>\n",
       "    </tr>\n",
       "    <tr>\n",
       "      <th>9</th>\n",
       "      <td>0.317654</td>\n",
       "    </tr>\n",
       "  </tbody>\n",
       "</table>\n",
       "</div>"
      ],
      "text/plain": [
       "          0\n",
       "0  0.029902\n",
       "1  0.080350\n",
       "2  0.034610\n",
       "3  0.280796\n",
       "4  0.267783\n",
       "5  0.284386\n",
       "6  0.296953\n",
       "7  0.032330\n",
       "8  0.040978\n",
       "9  0.317654"
      ]
     },
     "execution_count": 73,
     "metadata": {},
     "output_type": "execute_result"
    }
   ],
   "source": [
    "predicted = pd.DataFrame(y_pred)\n",
    "predicted.head(10)"
   ]
  },
  {
   "cell_type": "code",
   "execution_count": 74,
   "metadata": {
    "pycharm": {
     "name": "#%%\n"
    }
   },
   "outputs": [
    {
     "data": {
      "text/html": [
       "<div>\n",
       "<style scoped>\n",
       "    .dataframe tbody tr th:only-of-type {\n",
       "        vertical-align: middle;\n",
       "    }\n",
       "\n",
       "    .dataframe tbody tr th {\n",
       "        vertical-align: top;\n",
       "    }\n",
       "\n",
       "    .dataframe thead th {\n",
       "        text-align: right;\n",
       "    }\n",
       "</style>\n",
       "<table border=\"1\" class=\"dataframe\">\n",
       "  <thead>\n",
       "    <tr style=\"text-align: right;\">\n",
       "      <th></th>\n",
       "      <th>Porosidad</th>\n",
       "    </tr>\n",
       "  </thead>\n",
       "  <tbody>\n",
       "    <tr>\n",
       "      <th>88683</th>\n",
       "      <td>0.027589</td>\n",
       "    </tr>\n",
       "    <tr>\n",
       "      <th>64845</th>\n",
       "      <td>0.074509</td>\n",
       "    </tr>\n",
       "    <tr>\n",
       "      <th>89465</th>\n",
       "      <td>0.034422</td>\n",
       "    </tr>\n",
       "    <tr>\n",
       "      <th>14232</th>\n",
       "      <td>0.276578</td>\n",
       "    </tr>\n",
       "    <tr>\n",
       "      <th>19408</th>\n",
       "      <td>0.259353</td>\n",
       "    </tr>\n",
       "    <tr>\n",
       "      <th>33632</th>\n",
       "      <td>0.274199</td>\n",
       "    </tr>\n",
       "    <tr>\n",
       "      <th>40670</th>\n",
       "      <td>0.282508</td>\n",
       "    </tr>\n",
       "    <tr>\n",
       "      <th>81181</th>\n",
       "      <td>0.034684</td>\n",
       "    </tr>\n",
       "    <tr>\n",
       "      <th>96600</th>\n",
       "      <td>0.040574</td>\n",
       "    </tr>\n",
       "    <tr>\n",
       "      <th>20074</th>\n",
       "      <td>0.306343</td>\n",
       "    </tr>\n",
       "  </tbody>\n",
       "</table>\n",
       "</div>"
      ],
      "text/plain": [
       "       Porosidad\n",
       "88683   0.027589\n",
       "64845   0.074509\n",
       "89465   0.034422\n",
       "14232   0.276578\n",
       "19408   0.259353\n",
       "33632   0.274199\n",
       "40670   0.282508\n",
       "81181   0.034684\n",
       "96600   0.040574\n",
       "20074   0.306343"
      ]
     },
     "execution_count": 74,
     "metadata": {},
     "output_type": "execute_result"
    }
   ],
   "source": [
    "target_as_df = pd.DataFrame(test_target)\n",
    "target_as_df.head(10)"
   ]
  },
  {
   "cell_type": "code",
   "execution_count": 75,
   "metadata": {
    "pycharm": {
     "name": "#%%\n"
    }
   },
   "outputs": [
    {
     "data": {
      "text/plain": [
       "0.9962110750267397"
      ]
     },
     "execution_count": 75,
     "metadata": {},
     "output_type": "execute_result"
    }
   ],
   "source": [
    "from sklearn.metrics import r2_score\n",
    "r2_score(test_target, y_pred)\n"
   ]
  },
  {
   "cell_type": "code",
   "execution_count": 76,
   "metadata": {
    "pycharm": {
     "name": "#%%\n"
    }
   },
   "outputs": [],
   "source": [
    "combined_model.save('D:/Tomografia/All_Project/models/real_poro_model9962.h5')"
   ]
  },
  {
   "cell_type": "code",
   "execution_count": 82,
   "metadata": {
    "pycharm": {
     "name": "#%%\n"
    }
   },
   "outputs": [
    {
     "data": {
      "text/plain": "<Figure size 432x288 with 1 Axes>",
      "image/png": "[encoded data removed]"
     },
     "metadata": {
      "needs_background": "light"
     },
     "output_type": "display_data"
    }
   ],
   "source": [
    "poro_predicted = combined_model.predict([test_numerical,test_images])\n",
    "\n",
    "actual_porosity = np.array(test_target['Porosidad']).reshape(-1,1)\n",
    "\n",
    "\n",
    "ax=sns.regplot(x=poro_predicted,y=actual_porosity)\n",
    "ax.set_xlabel('Predicted porosity')\n",
    "ax.set_ylabel('Actual porosity')\n",
    "ax.set_axisbelow(True)\n",
    "ax.yaxis.grid(color='lightgray', linestyle='-')\n",
    "ax.xaxis.grid(color='lightgray', linestyle='-')\n",
    "ax.get_figure().savefig(r'D:\\Tomografia\\article\\ImagesArticle\\porosity.svg')\n",
    "\n"
   ]
  },
  {
   "cell_type": "code",
   "execution_count": 83,
   "metadata": {
    "pycharm": {
     "name": "#%%\n"
    }
   },
   "outputs": [
    {
     "name": "stdout",
     "output_type": "stream",
     "text": [
      "R2_score: 0.9962\n",
      "MSE: 3.817e-05\n",
      "MAE: 0.003958\n",
      "Max Error: 0.06377\n"
     ]
    }
   ],
   "source": [
    "from sklearn.metrics import r2_score, mean_squared_error, mean_absolute_error, max_error\n",
    "print('R2_score: {:.4}\\nMSE: {:.4}\\nMAE: {:.4}\\nMax Error: {:.4}'.format(r2_score(actual_porosity, poro_predicted),\n",
    "                                                               mean_squared_error(actual_porosity,poro_predicted),\n",
    "                                                               mean_absolute_error(actual_porosity,poro_predicted),\n",
    "                                                               max_error(actual_porosity, poro_predicted)))\n"
   ]
  },
  {
   "cell_type": "code",
   "execution_count": 1,
   "metadata": {
    "pycharm": {
     "name": "#%%\n"
    }
   },
   "outputs": [
    {
     "ename": "NameError",
     "evalue": "name 'keras' is not defined",
     "output_type": "error",
     "traceback": [
      "\u001B[1;31m---------------------------------------------------------------------------\u001B[0m",
      "\u001B[1;31mNameError\u001B[0m                                 Traceback (most recent call last)",
      "\u001B[1;32m<ipython-input-1-0971d15a17e9>\u001B[0m in \u001B[0;36m<module>\u001B[1;34m\u001B[0m\n\u001B[0;32m      1\u001B[0m \u001B[1;31m##############EVALUATE THE SECTIONS##################\u001B[0m\u001B[1;33m\u001B[0m\u001B[1;33m\u001B[0m\u001B[1;33m\u001B[0m\u001B[0m\n\u001B[1;32m----> 2\u001B[1;33m \u001B[0mbest_poro_model\u001B[0m \u001B[1;33m=\u001B[0m \u001B[0mkeras\u001B[0m\u001B[1;33m.\u001B[0m\u001B[0mmodels\u001B[0m\u001B[1;33m.\u001B[0m\u001B[0mload_model\u001B[0m\u001B[1;33m(\u001B[0m\u001B[1;34m'D:\\Tomografia\\All_Project\\models\\poro_model99.h5'\u001B[0m\u001B[1;33m)\u001B[0m\u001B[1;33m\u001B[0m\u001B[1;33m\u001B[0m\u001B[0m\n\u001B[0m\u001B[0;32m      3\u001B[0m \u001B[1;33m\u001B[0m\u001B[0m\n",
      "\u001B[1;31mNameError\u001B[0m: name 'keras' is not defined"
     ]
    }
   ],
   "source": [
    "##############EVALUATE THE SECTIONS##################\n",
    "best_poro_model = keras.models.load_model('D:\\Tomografia\\All_Project\\models\\poro_model99.h5')"
   ]
  },
  {
   "cell_type": "code",
   "execution_count": 22,
   "metadata": {
    "pycharm": {
     "name": "#%%\n"
    }
   },
   "outputs": [],
   "source": [
    "porosity_predicts = best_poro_model.predict([test_numerical, test_images])"
   ]
  },
  {
   "cell_type": "code",
   "execution_count": 24,
   "metadata": {
    "pycharm": {
     "name": "#%%\n"
    }
   },
   "outputs": [
    {
     "data": {
      "image/png": "[encoded data removed]",
      "text/plain": [
       "<Figure size 432x288 with 1 Axes>"
      ]
     },
     "metadata": {
      "needs_background": "light"
     },
     "output_type": "display_data"
    }
   ],
   "source": [
    "actual_porosity = np.array(test_target['Porosidad']).reshape(-1,1)\n",
    "\n",
    "\n",
    "ax=sns.regplot(x=porosity_predicts,y=actual_porosity)\n",
    "ax.set_xlabel('Porosidad del modelo')\n",
    "ax.set_ylabel('Porosidad real')\n",
    "ax.set_axisbelow(True)\n",
    "ax.yaxis.grid(color='lightgray', linestyle='-')\n",
    "ax.xaxis.grid(color='lightgray', linestyle='-')\n",
    "ax.get_figure().savefig('Porosity.png')"
   ]
  },
  {
   "cell_type": "code",
   "execution_count": null,
   "metadata": {
    "pycharm": {
     "name": "#%%\n"
    }
   },
   "outputs": [],
   "source": []
  }
 ],
 "metadata": {
  "kernelspec": {
   "display_name": "Python 3",
   "language": "python",
   "name": "python3"
  },
  "language_info": {
   "codemirror_mode": {
    "name": "ipython",
    "version": 3
   },
   "file_extension": ".py",
   "mimetype": "text/x-python",
   "name": "python",
   "nbconvert_exporter": "python",
   "pygments_lexer": "ipython3",
   "version": "3.7.9"
  }
 },
 "nbformat": 4,
 "nbformat_minor": 1
}