{
 "cells": [
  {
   "cell_type": "code",
   "execution_count": 3,
   "metadata": {
    "pycharm": {
     "name": "#%%\n"
    }
   },
   "outputs": [
    {
     "name": "stdout",
     "output_type": "stream",
     "text": [
      "4224.000-4227.012.png\n",
      "4227.000-4230.152.png\n",
      "4230.000-4233.035.png\n",
      "4233.000-4236.076.png\n",
      "4236.000-4239.004.png\n",
      "4239.000-4242.012.png\n",
      "4242.000-4245.027.png\n",
      "4245.000-4248.016.png\n",
      "4248.000-4251.045.png\n",
      "4251.000-4254.133.png\n",
      "4289.000-4292.139.png\n",
      "4292.000-4295.018.png\n",
      "4295.000-4297.992.png\n",
      "4298.000-4301.074.png\n",
      "4301.000-4304.092.png\n",
      "4304.000-4307.061.png\n",
      "4307.000-4309.998.png\n",
      "4310.000-4313.070.png\n",
      "4313.000-4316.039.png\n",
      "4316.000-4319.139.png\n",
      "4746.000-4749.029.png\n",
      "4749.000-4752.029.png\n",
      "4752.000-4755.027.png\n",
      "4755.000-4758.014.png\n",
      "4758.000-4761.041.png\n",
      "4761.000-4764.057.png\n",
      "4764.000-4767.104.png\n",
      "4767.000-4769.996.png\n",
      "4770.000-4773.115.png\n",
      "4773.000-4774.198.png\n",
      "4774.000-4777.039.png\n",
      "4777.000-4780.061.png\n",
      "4780.000-4782.988.png\n",
      "4783.000-4786.018.png\n",
      "4786.000-4789.008.png\n",
      "4789.000-4791.067.png\n"
     ]
    }
   ],
   "source": [
    "from PIL import Image\n",
    "import time\n",
    "import os\n",
    "import numpy as np\n",
    "import matplotlib.pyplot as plt\n",
    "import pandas as pd\n",
    "import tensorflow as tf\n",
    "\n",
    "\n",
    "\n",
    "for file in os.listdir('ImagenesXZ'):\n",
    "    if file.endswith('.png'):\n",
    "        print(file)\n",
    "        img = Image.open(os.path.join('ImagenesXZ',file)).convert('L').resize((301,1470), Image.ANTIALIAS)\n",
    "        array = np.asarray(img)\n",
    "        continue\n",
    "    else:\n",
    "        continue\n",
    "array_scaled  = array/255."
   ]
  },
  {
   "cell_type": "code",
   "execution_count": 4,
   "outputs": [],
   "source": [
    "img = Image.open('Training_Images/c1t1.1.jpg').convert('L')\n",
    "img_array = np.asarray(img)\n",
    "img_scaled =  img_array/255."
   ],
   "metadata": {
    "collapsed": false,
    "pycharm": {
     "name": "#%%\n"
    }
   }
  }
 ],
 "metadata": {
  "kernelspec": {
   "display_name": "Python 3",
   "language": "python",
   "name": "python3"
  },
  "language_info": {
   "codemirror_mode": {
    "name": "ipython",
    "version": 3
   },
   "file_extension": ".py",
   "mimetype": "text/x-python",
   "name": "python",
   "nbconvert_exporter": "python",
   "pygments_lexer": "ipython3",
   "version": "3.7.7"
  }
 },
 "nbformat": 4,
 "nbformat_minor": 1
}