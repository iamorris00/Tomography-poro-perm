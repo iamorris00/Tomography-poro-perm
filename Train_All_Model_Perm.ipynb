{
 "cells": [
  {
   "cell_type": "code",
   "execution_count": 1,
   "outputs": [],
   "source": [
    "import os\n",
    "\n",
    "import pandas as pd\n",
    "import numpy as np\n",
    "import matplotlib.pyplot as plt\n",
    "import seaborn as sns\n",
    "\n",
    "import tensorflow as tf\n",
    "gpus = tf.config.experimental.list_physical_devices('GPU')\n",
    "tf.config.experimental.set_memory_growth(gpus[0], True)\n",
    "\n",
    "from tensorflow import keras\n",
    "from tensorflow.keras import  layers\n",
    "from sklearn.preprocessing import StandardScaler\n",
    "\n",
    "from tensorflow.keras.preprocessing.image import ImageDataGenerator\n",
    "import tensorflow_docs as tfdocs"
   ],
   "metadata": {
    "collapsed": false,
    "pycharm": {
     "name": "#%%\n"
    }
   }
  },
  {
   "cell_type": "code",
   "execution_count": 5,
   "outputs": [
    {
     "data": {
      "text/plain": "(4018, 1, 301, 1)"
     },
     "execution_count": 5,
     "metadata": {},
     "output_type": "execute_result"
    }
   ],
   "source": [
    "#First take the first batch of images to tensors in order to use them.\n",
    "img_train_dir1 = 'D:\\Tomografia\\All_Project\\Images_2'\n",
    "img_train_dir2 = 'D:\\Tomografia\\All_Project\\Images_1'\n",
    "train_imgs = []\n",
    "\n",
    "for img in os.listdir(img_train_dir1):\n",
    "\n",
    "    img = tf.io.read_file(filename=os.path.join(img_train_dir1,img))\n",
    "    img = tf.io.decode_image(img, dtype=tf.dtypes.uint8)\n",
    "    img = tf.keras.preprocessing.image.img_to_array(img)\n",
    "    img /= 255.0\n",
    "    for i in range(41):\n",
    "        train_imgs.append(img[i])\n",
    "\n",
    "for img in os.listdir(img_train_dir2):\n",
    "\n",
    "    img = tf.io.read_file(filename=os.path.join(img_train_dir2,img))\n",
    "    img = tf.io.decode_image(img, dtype=tf.dtypes.uint8)\n",
    "    img = tf.keras.preprocessing.image.img_to_array(img)\n",
    "    img /= 255.0\n",
    "    for i in range(41):\n",
    "        train_imgs.append(img[i])\n",
    "\n",
    "train_imgs_np = np.array(train_imgs)\n",
    "train_imgs_np = np.reshape(train_imgs_np, [-1, 1, 301, 1])\n",
    "\n",
    "train_imgs_np.shape"
   ],
   "metadata": {
    "collapsed": false,
    "pycharm": {
     "name": "#%%\n"
    }
   }
  },
  {
   "cell_type": "code",
   "execution_count": 6,
   "outputs": [
    {
     "data": {
      "text/plain": "         Profundidad       Densidad            PEF           Zeff  \\\ncount  106727.000000  106727.000000  106727.000000  106727.000000   \nmean     2481.278115     -63.449448     -62.809941     -53.123846   \nstd      1863.746803     248.147334     248.320682     250.889891   \nmin       674.000000    -999.000000    -999.000000    -999.000000   \n25%       750.633243       2.216868       2.029552      12.172757   \n50%       807.724491       2.398254       2.661010      13.124068   \n75%      4305.348220       2.483573       3.360385      14.002938   \nmax      4786.018373       5.299557      19.725271      22.894365   \n\n         Porosidad  Permeabilidad  \ncount  4018.000000    4018.000000  \nmean      0.128155    1178.282543  \nstd       0.102004    3213.289923  \nmin       0.008573       0.002762  \n25%       0.043468       0.068706  \n50%       0.086203       1.016259  \n75%       0.200881     139.249392  \nmax       0.366091   18157.475410  ",
      "text/html": "<div>\n<style scoped>\n    .dataframe tbody tr th:only-of-type {\n        vertical-align: middle;\n    }\n\n    .dataframe tbody tr th {\n        vertical-align: top;\n    }\n\n    .dataframe thead th {\n        text-align: right;\n    }\n</style>\n<table border=\"1\" class=\"dataframe\">\n  <thead>\n    <tr style=\"text-align: right;\">\n      <th></th>\n      <th>Profundidad</th>\n      <th>Densidad</th>\n      <th>PEF</th>\n      <th>Zeff</th>\n      <th>Porosidad</th>\n      <th>Permeabilidad</th>\n    </tr>\n  </thead>\n  <tbody>\n    <tr>\n      <th>count</th>\n      <td>106727.000000</td>\n      <td>106727.000000</td>\n      <td>106727.000000</td>\n      <td>106727.000000</td>\n      <td>4018.000000</td>\n      <td>4018.000000</td>\n    </tr>\n    <tr>\n      <th>mean</th>\n      <td>2481.278115</td>\n      <td>-63.449448</td>\n      <td>-62.809941</td>\n      <td>-53.123846</td>\n      <td>0.128155</td>\n      <td>1178.282543</td>\n    </tr>\n    <tr>\n      <th>std</th>\n      <td>1863.746803</td>\n      <td>248.147334</td>\n      <td>248.320682</td>\n      <td>250.889891</td>\n      <td>0.102004</td>\n      <td>3213.289923</td>\n    </tr>\n    <tr>\n      <th>min</th>\n      <td>674.000000</td>\n      <td>-999.000000</td>\n      <td>-999.000000</td>\n      <td>-999.000000</td>\n      <td>0.008573</td>\n      <td>0.002762</td>\n    </tr>\n    <tr>\n      <th>25%</th>\n      <td>750.633243</td>\n      <td>2.216868</td>\n      <td>2.029552</td>\n      <td>12.172757</td>\n      <td>0.043468</td>\n      <td>0.068706</td>\n    </tr>\n    <tr>\n      <th>50%</th>\n      <td>807.724491</td>\n      <td>2.398254</td>\n      <td>2.661010</td>\n      <td>13.124068</td>\n      <td>0.086203</td>\n      <td>1.016259</td>\n    </tr>\n    <tr>\n      <th>75%</th>\n      <td>4305.348220</td>\n      <td>2.483573</td>\n      <td>3.360385</td>\n      <td>14.002938</td>\n      <td>0.200881</td>\n      <td>139.249392</td>\n    </tr>\n    <tr>\n      <th>max</th>\n      <td>4786.018373</td>\n      <td>5.299557</td>\n      <td>19.725271</td>\n      <td>22.894365</td>\n      <td>0.366091</td>\n      <td>18157.475410</td>\n    </tr>\n  </tbody>\n</table>\n</div>"
     },
     "execution_count": 6,
     "metadata": {},
     "output_type": "execute_result"
    }
   ],
   "source": [
    "df = pd.read_csv('D:\\Tomografia\\All_Project\\merged_logs.csv')\n",
    "df.describe()"
   ],
   "metadata": {
    "collapsed": false,
    "pycharm": {
     "name": "#%%\n"
    }
   }
  },
  {
   "cell_type": "code",
   "execution_count": 7,
   "outputs": [
    {
     "data": {
      "text/plain": "        Profundidad      Densidad           PEF          Zeff    Porosidad  \\\ncount  99712.000000  99712.000000  99712.000000  99712.000000  4018.000000   \nmean    2485.475258      2.368980      3.053478     13.421015     0.128155   \nstd     1868.661274      0.243902      1.427906      1.444801     0.102004   \nmin      674.016404      1.002680      0.375440      7.617576     0.008573   \n25%      751.392450      2.270224      2.141373     12.355462     0.043468   \n50%      807.908013      2.409777      2.737679     13.228029     0.086203   \n75%     4307.523396      2.488105      3.423617     14.075639     0.200881   \nmax     4786.008120      5.299557     19.725271     22.894365     0.366091   \n\n       Permeabilidad  \ncount    4018.000000  \nmean     1178.282543  \nstd      3213.289923  \nmin         0.002762  \n25%         0.068706  \n50%         1.016259  \n75%       139.249392  \nmax     18157.475410  ",
      "text/html": "<div>\n<style scoped>\n    .dataframe tbody tr th:only-of-type {\n        vertical-align: middle;\n    }\n\n    .dataframe tbody tr th {\n        vertical-align: top;\n    }\n\n    .dataframe thead th {\n        text-align: right;\n    }\n</style>\n<table border=\"1\" class=\"dataframe\">\n  <thead>\n    <tr style=\"text-align: right;\">\n      <th></th>\n      <th>Profundidad</th>\n      <th>Densidad</th>\n      <th>PEF</th>\n      <th>Zeff</th>\n      <th>Porosidad</th>\n      <th>Permeabilidad</th>\n    </tr>\n  </thead>\n  <tbody>\n    <tr>\n      <th>count</th>\n      <td>99712.000000</td>\n      <td>99712.000000</td>\n      <td>99712.000000</td>\n      <td>99712.000000</td>\n      <td>4018.000000</td>\n      <td>4018.000000</td>\n    </tr>\n    <tr>\n      <th>mean</th>\n      <td>2485.475258</td>\n      <td>2.368980</td>\n      <td>3.053478</td>\n      <td>13.421015</td>\n      <td>0.128155</td>\n      <td>1178.282543</td>\n    </tr>\n    <tr>\n      <th>std</th>\n      <td>1868.661274</td>\n      <td>0.243902</td>\n      <td>1.427906</td>\n      <td>1.444801</td>\n      <td>0.102004</td>\n      <td>3213.289923</td>\n    </tr>\n    <tr>\n      <th>min</th>\n      <td>674.016404</td>\n      <td>1.002680</td>\n      <td>0.375440</td>\n      <td>7.617576</td>\n      <td>0.008573</td>\n      <td>0.002762</td>\n    </tr>\n    <tr>\n      <th>25%</th>\n      <td>751.392450</td>\n      <td>2.270224</td>\n      <td>2.141373</td>\n      <td>12.355462</td>\n      <td>0.043468</td>\n      <td>0.068706</td>\n    </tr>\n    <tr>\n      <th>50%</th>\n      <td>807.908013</td>\n      <td>2.409777</td>\n      <td>2.737679</td>\n      <td>13.228029</td>\n      <td>0.086203</td>\n      <td>1.016259</td>\n    </tr>\n    <tr>\n      <th>75%</th>\n      <td>4307.523396</td>\n      <td>2.488105</td>\n      <td>3.423617</td>\n      <td>14.075639</td>\n      <td>0.200881</td>\n      <td>139.249392</td>\n    </tr>\n    <tr>\n      <th>max</th>\n      <td>4786.008120</td>\n      <td>5.299557</td>\n      <td>19.725271</td>\n      <td>22.894365</td>\n      <td>0.366091</td>\n      <td>18157.475410</td>\n    </tr>\n  </tbody>\n</table>\n</div>"
     },
     "execution_count": 7,
     "metadata": {},
     "output_type": "execute_result"
    }
   ],
   "source": [
    "df.isnull().sum(axis = 0)\n",
    "df = df.drop(df[df['PEF']<0].index)\n",
    "df.describe()"
   ],
   "metadata": {
    "collapsed": false,
    "pycharm": {
     "name": "#%%\n"
    }
   }
  },
  {
   "cell_type": "code",
   "execution_count": 8,
   "outputs": [],
   "source": [
    "df = df.dropna()"
   ],
   "metadata": {
    "collapsed": false,
    "pycharm": {
     "name": "#%%\n"
    }
   }
  },
  {
   "cell_type": "code",
   "execution_count": 9,
   "outputs": [
    {
     "data": {
      "text/plain": "          Densidad          PEF         Zeff    Porosidad  Permeabilidad\ncount  4018.000000  4018.000000  4018.000000  4018.000000    4018.000000\nmean      2.397014     3.023744    13.372327     0.128155    1178.282543\nstd       0.298877     1.437292     1.478697     0.102004    3213.289923\nmin       1.985576     1.735389    11.654648     0.008573       0.002762\n25%       2.268632     2.029940    12.173402     0.043468       0.068706\n50%       2.411114     2.632301    13.084582     0.086203       1.016259\n75%       2.483558     3.482450    14.142415     0.200881     139.249392\nmax       5.167703    10.263746    19.094940     0.366091   18157.475410",
      "text/html": "<div>\n<style scoped>\n    .dataframe tbody tr th:only-of-type {\n        vertical-align: middle;\n    }\n\n    .dataframe tbody tr th {\n        vertical-align: top;\n    }\n\n    .dataframe thead th {\n        text-align: right;\n    }\n</style>\n<table border=\"1\" class=\"dataframe\">\n  <thead>\n    <tr style=\"text-align: right;\">\n      <th></th>\n      <th>Densidad</th>\n      <th>PEF</th>\n      <th>Zeff</th>\n      <th>Porosidad</th>\n      <th>Permeabilidad</th>\n    </tr>\n  </thead>\n  <tbody>\n    <tr>\n      <th>count</th>\n      <td>4018.000000</td>\n      <td>4018.000000</td>\n      <td>4018.000000</td>\n      <td>4018.000000</td>\n      <td>4018.000000</td>\n    </tr>\n    <tr>\n      <th>mean</th>\n      <td>2.397014</td>\n      <td>3.023744</td>\n      <td>13.372327</td>\n      <td>0.128155</td>\n      <td>1178.282543</td>\n    </tr>\n    <tr>\n      <th>std</th>\n      <td>0.298877</td>\n      <td>1.437292</td>\n      <td>1.478697</td>\n      <td>0.102004</td>\n      <td>3213.289923</td>\n    </tr>\n    <tr>\n      <th>min</th>\n      <td>1.985576</td>\n      <td>1.735389</td>\n      <td>11.654648</td>\n      <td>0.008573</td>\n      <td>0.002762</td>\n    </tr>\n    <tr>\n      <th>25%</th>\n      <td>2.268632</td>\n      <td>2.029940</td>\n      <td>12.173402</td>\n      <td>0.043468</td>\n      <td>0.068706</td>\n    </tr>\n    <tr>\n      <th>50%</th>\n      <td>2.411114</td>\n      <td>2.632301</td>\n      <td>13.084582</td>\n      <td>0.086203</td>\n      <td>1.016259</td>\n    </tr>\n    <tr>\n      <th>75%</th>\n      <td>2.483558</td>\n      <td>3.482450</td>\n      <td>14.142415</td>\n      <td>0.200881</td>\n      <td>139.249392</td>\n    </tr>\n    <tr>\n      <th>max</th>\n      <td>5.167703</td>\n      <td>10.263746</td>\n      <td>19.094940</td>\n      <td>0.366091</td>\n      <td>18157.475410</td>\n    </tr>\n  </tbody>\n</table>\n</div>"
     },
     "execution_count": 9,
     "metadata": {},
     "output_type": "execute_result"
    }
   ],
   "source": [
    "#Analisis de la informacion\n",
    "df_numerico = df.drop(['Core', 'Seccion', 'Profundidad'], axis=1)\n",
    "df_numerico.describe()"
   ],
   "metadata": {
    "collapsed": false,
    "pycharm": {
     "name": "#%%\n"
    }
   }
  },
  {
   "cell_type": "code",
   "execution_count": 10,
   "outputs": [
    {
     "data": {
      "text/plain": "<Figure size 720x576 with 1 Axes>",
      "image/png": "[encoded data removed]"
     },
     "metadata": {
      "needs_background": "light"
     },
     "output_type": "display_data"
    }
   ],
   "source": [
    "plt.figure(figsize=(10,8))\n",
    "df.boxplot('Permeabilidad')\n",
    "plt.show()"
   ],
   "metadata": {
    "collapsed": false,
    "pycharm": {
     "name": "#%%\n"
    }
   }
  },
  {
   "cell_type": "code",
   "execution_count": 11,
   "outputs": [],
   "source": [
    "permeability_target = df_numerico[['Permeabilidad']]\n",
    "numerical_features = df_numerico[['Densidad', 'PEF', 'Zeff']]\n",
    "imgs_features = train_imgs_np"
   ],
   "metadata": {
    "collapsed": false,
    "pycharm": {
     "name": "#%%\n"
    }
   }
  },
  {
   "cell_type": "code",
   "execution_count": 12,
   "outputs": [
    {
     "data": {
      "text/plain": "           Densidad           PEF          Zeff\ncount  4.018000e+03  4.018000e+03  4.018000e+03\nmean   1.556191e-15  9.903035e-17  1.697663e-16\nstd    1.000124e+00  1.000124e+00  1.000124e+00\nmin   -1.376783e+00 -8.964881e-01 -1.161761e+00\n25%   -4.296025e-01 -6.915282e-01 -8.108991e-01\n50%    4.718288e-02 -2.723813e-01 -1.946178e-01\n75%    2.895989e-01  3.191856e-01  5.208524e-01\nmax    9.271474e+00  5.037880e+00  3.870519e+00",
      "text/html": "<div>\n<style scoped>\n    .dataframe tbody tr th:only-of-type {\n        vertical-align: middle;\n    }\n\n    .dataframe tbody tr th {\n        vertical-align: top;\n    }\n\n    .dataframe thead th {\n        text-align: right;\n    }\n</style>\n<table border=\"1\" class=\"dataframe\">\n  <thead>\n    <tr style=\"text-align: right;\">\n      <th></th>\n      <th>Densidad</th>\n      <th>PEF</th>\n      <th>Zeff</th>\n    </tr>\n  </thead>\n  <tbody>\n    <tr>\n      <th>count</th>\n      <td>4.018000e+03</td>\n      <td>4.018000e+03</td>\n      <td>4.018000e+03</td>\n    </tr>\n    <tr>\n      <th>mean</th>\n      <td>1.556191e-15</td>\n      <td>9.903035e-17</td>\n      <td>1.697663e-16</td>\n    </tr>\n    <tr>\n      <th>std</th>\n      <td>1.000124e+00</td>\n      <td>1.000124e+00</td>\n      <td>1.000124e+00</td>\n    </tr>\n    <tr>\n      <th>min</th>\n      <td>-1.376783e+00</td>\n      <td>-8.964881e-01</td>\n      <td>-1.161761e+00</td>\n    </tr>\n    <tr>\n      <th>25%</th>\n      <td>-4.296025e-01</td>\n      <td>-6.915282e-01</td>\n      <td>-8.108991e-01</td>\n    </tr>\n    <tr>\n      <th>50%</th>\n      <td>4.718288e-02</td>\n      <td>-2.723813e-01</td>\n      <td>-1.946178e-01</td>\n    </tr>\n    <tr>\n      <th>75%</th>\n      <td>2.895989e-01</td>\n      <td>3.191856e-01</td>\n      <td>5.208524e-01</td>\n    </tr>\n    <tr>\n      <th>max</th>\n      <td>9.271474e+00</td>\n      <td>5.037880e+00</td>\n      <td>3.870519e+00</td>\n    </tr>\n  </tbody>\n</table>\n</div>"
     },
     "execution_count": 12,
     "metadata": {},
     "output_type": "execute_result"
    }
   ],
   "source": [
    "#Procesar los inputs\n",
    "standardScaler = StandardScaler()\n",
    "\n",
    "features_procesados = pd.DataFrame(standardScaler.fit_transform(numerical_features),\n",
    "                      columns=numerical_features.columns,\n",
    "                      index= numerical_features.index)\n",
    "features_procesados.describe()"
   ],
   "metadata": {
    "collapsed": false,
    "pycharm": {
     "name": "#%%\n"
    }
   }
  },
  {
   "cell_type": "code",
   "execution_count": 13,
   "outputs": [],
   "source": [
    "from sklearn.model_selection import train_test_split\n",
    "train_numerical, test_numerical, train_images, test_images, train_target, test_target = train_test_split(features_procesados,\n",
    "                                                                                                         imgs_features,\n",
    "                                                                                                         permeability_target,\n",
    "                                                                                                         test_size=0.2,\n",
    "                                                                                                         random_state=1)"
   ],
   "metadata": {
    "collapsed": false,
    "pycharm": {
     "name": "#%%\n"
    }
   }
  },
  {
   "cell_type": "code",
   "execution_count": 14,
   "outputs": [
    {
     "name": "stdout",
     "output_type": "stream",
     "text": [
      "The shape of the training sets are  (3214, 3) (3214, 1, 301, 1) (3214, 1)\n"
     ]
    }
   ],
   "source": [
    "print('The shape of the training sets are ',\n",
    "      train_numerical.shape,\n",
    "      train_images.shape,\n",
    "      train_target.shape)\n"
   ],
   "metadata": {
    "collapsed": false,
    "pycharm": {
     "name": "#%%\n"
    }
   }
  },
  {
   "cell_type": "code",
   "execution_count": 15,
   "outputs": [
    {
     "name": "stdout",
     "output_type": "stream",
     "text": [
      "The shape of the test sets are  (804, 3) (804, 1, 301, 1) (3214, 1)\n"
     ]
    },
    {
     "data": {
      "text/plain": "(1, 301, 1)"
     },
     "execution_count": 15,
     "metadata": {},
     "output_type": "execute_result"
    }
   ],
   "source": [
    "print('The shape of the test sets are ',\n",
    "      test_numerical.shape,\n",
    "      test_images.shape,\n",
    "      train_target.shape)\n",
    "train_images[0].shape"
   ],
   "metadata": {
    "collapsed": false,
    "pycharm": {
     "name": "#%%\n"
    }
   }
  },
  {
   "cell_type": "code",
   "execution_count": 44,
   "outputs": [],
   "source": [
    "##CNN model for the images\n",
    "conv_model = tf.keras.models.Sequential([\n",
    "\n",
    "    layers.Conv2D(16, (3,3), padding='same', activation='relu',\n",
    "                  input_shape=train_images[0].shape),\n",
    "    layers.MaxPooling2D(pool_size=(1,2)),\n",
    "    layers.BatchNormalization(axis=-1),\n",
    "    layers.Conv2D(32, (3,3),padding='same', activation='relu'),\n",
    "    layers.MaxPooling2D(pool_size=(1,2)),\n",
    "    layers.Conv2D(64, (3,3),padding='same', activation='relu'),\n",
    "    layers.Dropout(0.2),\n",
    "\n",
    "    layers.Flatten(),\n",
    "\n",
    "    layers.Dense(512, activation='relu'),\n",
    "    layers.Dense(256, activation='relu'),\n",
    "    layers.Dense(128, activation='relu'),\n",
    "    layers.Dense(4, activation='relu')\n",
    "\n",
    "])"
   ],
   "metadata": {
    "collapsed": false,
    "pycharm": {
     "name": "#%%\n"
    }
   }
  },
  {
   "cell_type": "code",
   "execution_count": 45,
   "outputs": [],
   "source": [
    "## Regression model for the numerical features\n",
    "reg_model = tf.keras.models.Sequential([\n",
    "    layers.Dense(32, activation='relu', input_shape=[len(numerical_features.keys())]),\n",
    "    layers.Dense(64, activation='relu'),\n",
    "    layers.Dense(128, activation='relu'),\n",
    "    layers.Dense(256, activation='relu'),\n",
    "    layers.Dense(128, activation='relu'),\n",
    "    layers.Dense(64, activation='relu'),\n",
    "    layers.Dense(32, activation='relu'),\n",
    "\n",
    "    layers.Dense(16, activation='relu'),\n",
    "    layers.Dropout(0.15),\n",
    "\n",
    "    layers.Dense(4, activation='relu')\n",
    "\n",
    "\n",
    "])"
   ],
   "metadata": {
    "collapsed": false,
    "pycharm": {
     "name": "#%%\n"
    }
   }
  },
  {
   "cell_type": "code",
   "execution_count": 46,
   "outputs": [],
   "source": [
    "# Combined model\n",
    "combined_input = layers.concatenate([reg_model.output, conv_model.output])\n",
    "x = layers.Dense(4, activation='relu')(combined_input)\n",
    "x = layers.Dense(2, activation='relu')(x)\n",
    "x = layers.Dense(1)(x)"
   ],
   "metadata": {
    "collapsed": false,
    "pycharm": {
     "name": "#%%\n"
    }
   }
  },
  {
   "cell_type": "code",
   "execution_count": 47,
   "outputs": [],
   "source": [
    "combined_model = tf.keras.models.Model(inputs=[reg_model.input, conv_model.input],\n",
    "                                       outputs = x)\n"
   ],
   "metadata": {
    "collapsed": false,
    "pycharm": {
     "name": "#%%\n"
    }
   }
  },
  {
   "cell_type": "code",
   "execution_count": 48,
   "outputs": [
    {
     "name": "stdout",
     "output_type": "stream",
     "text": [
      "Model: \"model_1\"\n",
      "__________________________________________________________________________________________________\n",
      "Layer (type)                    Output Shape         Param #     Connected to                     \n",
      "==================================================================================================\n",
      "conv2d_6_input (InputLayer)     [(None, 1, 301, 1)]  0                                            \n",
      "__________________________________________________________________________________________________\n",
      "conv2d_6 (Conv2D)               (None, 1, 301, 16)   160         conv2d_6_input[0][0]             \n",
      "__________________________________________________________________________________________________\n",
      "dense_24_input (InputLayer)     [(None, 3)]          0                                            \n",
      "__________________________________________________________________________________________________\n",
      "max_pooling2d_4 (MaxPooling2D)  (None, 1, 150, 16)   0           conv2d_6[0][0]                   \n",
      "__________________________________________________________________________________________________\n",
      "dense_24 (Dense)                (None, 32)           128         dense_24_input[0][0]             \n",
      "__________________________________________________________________________________________________\n",
      "batch_normalization_2 (BatchNor (None, 1, 150, 16)   64          max_pooling2d_4[0][0]            \n",
      "__________________________________________________________________________________________________\n",
      "dense_25 (Dense)                (None, 64)           2112        dense_24[0][0]                   \n",
      "__________________________________________________________________________________________________\n",
      "conv2d_7 (Conv2D)               (None, 1, 150, 32)   4640        batch_normalization_2[0][0]      \n",
      "__________________________________________________________________________________________________\n",
      "dense_26 (Dense)                (None, 128)          8320        dense_25[0][0]                   \n",
      "__________________________________________________________________________________________________\n",
      "max_pooling2d_5 (MaxPooling2D)  (None, 1, 75, 32)    0           conv2d_7[0][0]                   \n",
      "__________________________________________________________________________________________________\n",
      "dense_27 (Dense)                (None, 256)          33024       dense_26[0][0]                   \n",
      "__________________________________________________________________________________________________\n",
      "conv2d_8 (Conv2D)               (None, 1, 75, 64)    18496       max_pooling2d_5[0][0]            \n",
      "__________________________________________________________________________________________________\n",
      "dense_28 (Dense)                (None, 128)          32896       dense_27[0][0]                   \n",
      "__________________________________________________________________________________________________\n",
      "dropout_3 (Dropout)             (None, 1, 75, 64)    0           conv2d_8[0][0]                   \n",
      "__________________________________________________________________________________________________\n",
      "dense_29 (Dense)                (None, 64)           8256        dense_28[0][0]                   \n",
      "__________________________________________________________________________________________________\n",
      "flatten_2 (Flatten)             (None, 4800)         0           dropout_3[0][0]                  \n",
      "__________________________________________________________________________________________________\n",
      "dense_30 (Dense)                (None, 32)           2080        dense_29[0][0]                   \n",
      "__________________________________________________________________________________________________\n",
      "dense_20 (Dense)                (None, 512)          2458112     flatten_2[0][0]                  \n",
      "__________________________________________________________________________________________________\n",
      "dense_31 (Dense)                (None, 16)           528         dense_30[0][0]                   \n",
      "__________________________________________________________________________________________________\n",
      "dense_21 (Dense)                (None, 256)          131328      dense_20[0][0]                   \n",
      "__________________________________________________________________________________________________\n",
      "dropout_4 (Dropout)             (None, 16)           0           dense_31[0][0]                   \n",
      "__________________________________________________________________________________________________\n",
      "dense_22 (Dense)                (None, 128)          32896       dense_21[0][0]                   \n",
      "__________________________________________________________________________________________________\n",
      "dense_32 (Dense)                (None, 4)            68          dropout_4[0][0]                  \n",
      "__________________________________________________________________________________________________\n",
      "dense_23 (Dense)                (None, 4)            516         dense_22[0][0]                   \n",
      "__________________________________________________________________________________________________\n",
      "concatenate_1 (Concatenate)     (None, 8)            0           dense_32[0][0]                   \n",
      "                                                                 dense_23[0][0]                   \n",
      "__________________________________________________________________________________________________\n",
      "dense_33 (Dense)                (None, 4)            36          concatenate_1[0][0]              \n",
      "__________________________________________________________________________________________________\n",
      "dense_34 (Dense)                (None, 2)            10          dense_33[0][0]                   \n",
      "__________________________________________________________________________________________________\n",
      "dense_35 (Dense)                (None, 1)            3           dense_34[0][0]                   \n",
      "==================================================================================================\n",
      "Total params: 2,733,673\n",
      "Trainable params: 2,733,641\n",
      "Non-trainable params: 32\n",
      "__________________________________________________________________________________________________\n"
     ]
    }
   ],
   "source": [
    "combined_model.compile(loss=\"mse\",\n",
    "                       optimizer=keras.optimizers.Adam(0.001),\n",
    "                       metrics=['mae','mse'])\n",
    "combined_model.summary()"
   ],
   "metadata": {
    "collapsed": false,
    "pycharm": {
     "name": "#%%\n"
    }
   }
  },
  {
   "cell_type": "code",
   "execution_count": 49,
   "outputs": [],
   "source": [
    "import datetime\n",
    "keras.utils.plot_model(combined_model, 'combined_model_poro.png', show_shapes=True)\n",
    "\n",
    "log_dir = \"Tensorboard\\\\perm_logs\\\\\" + datetime.datetime.now().strftime(\"%Y%m%d-%H%M%S\")\n",
    "tensorboard_callback = tf.keras.callbacks.TensorBoard(log_dir=log_dir, histogram_freq=1)"
   ],
   "metadata": {
    "collapsed": false,
    "pycharm": {
     "name": "#%%\n"
    }
   }
  },
  {
   "cell_type": "code",
   "execution_count": 50,
   "outputs": [
    {
     "name": "stdout",
     "output_type": "stream",
     "text": [
      "[INFO] training model...\n",
      "[INFO] TRAINED FINISHED\n"
     ]
    }
   ],
   "source": [
    "print(\"[INFO] training model...\")\n",
    "trainig_hist = combined_model.fit(x=[train_numerical, train_images], y=train_target,\n",
    "\t                              validation_split= 0.245,\n",
    "\t                              epochs=300, batch_size=16,\n",
    "                                  verbose = False,\n",
    "                                  callbacks=[tensorboard_callback])\n",
    "print(\"[INFO] TRAINED FINISHED\")"
   ],
   "metadata": {
    "collapsed": false,
    "pycharm": {
     "name": "#%%\n"
    }
   }
  },
  {
   "cell_type": "code",
   "execution_count": 51,
   "outputs": [
    {
     "data": {
      "text/plain": "             loss        mae           mse       val_loss     val_mae  \\\n295  48806.623627  65.757919  48806.617188  126939.526230   99.135864   \n296  20620.505598  47.451740  20620.501953  168129.858373  110.324463   \n297  25549.949492  53.228676  25549.945312  181540.155947  128.099945   \n298  32899.460741  60.546680  32899.460938  199644.729687  118.895645   \n299  19351.935780  47.900185  19351.935547  191553.567021  113.886528   \n\n           val_mse  epoch  \n295  126939.546875    295  \n296  168129.843750    296  \n297  181540.187500    297  \n298  199644.734375    298  \n299  191553.609375    299  ",
      "text/html": "<div>\n<style scoped>\n    .dataframe tbody tr th:only-of-type {\n        vertical-align: middle;\n    }\n\n    .dataframe tbody tr th {\n        vertical-align: top;\n    }\n\n    .dataframe thead th {\n        text-align: right;\n    }\n</style>\n<table border=\"1\" class=\"dataframe\">\n  <thead>\n    <tr style=\"text-align: right;\">\n      <th></th>\n      <th>loss</th>\n      <th>mae</th>\n      <th>mse</th>\n      <th>val_loss</th>\n      <th>val_mae</th>\n      <th>val_mse</th>\n      <th>epoch</th>\n    </tr>\n  </thead>\n  <tbody>\n    <tr>\n      <th>295</th>\n      <td>48806.623627</td>\n      <td>65.757919</td>\n      <td>48806.617188</td>\n      <td>126939.526230</td>\n      <td>99.135864</td>\n      <td>126939.546875</td>\n      <td>295</td>\n    </tr>\n    <tr>\n      <th>296</th>\n      <td>20620.505598</td>\n      <td>47.451740</td>\n      <td>20620.501953</td>\n      <td>168129.858373</td>\n      <td>110.324463</td>\n      <td>168129.843750</td>\n      <td>296</td>\n    </tr>\n    <tr>\n      <th>297</th>\n      <td>25549.949492</td>\n      <td>53.228676</td>\n      <td>25549.945312</td>\n      <td>181540.155947</td>\n      <td>128.099945</td>\n      <td>181540.187500</td>\n      <td>297</td>\n    </tr>\n    <tr>\n      <th>298</th>\n      <td>32899.460741</td>\n      <td>60.546680</td>\n      <td>32899.460938</td>\n      <td>199644.729687</td>\n      <td>118.895645</td>\n      <td>199644.734375</td>\n      <td>298</td>\n    </tr>\n    <tr>\n      <th>299</th>\n      <td>19351.935780</td>\n      <td>47.900185</td>\n      <td>19351.935547</td>\n      <td>191553.567021</td>\n      <td>113.886528</td>\n      <td>191553.609375</td>\n      <td>299</td>\n    </tr>\n  </tbody>\n</table>\n</div>"
     },
     "execution_count": 51,
     "metadata": {},
     "output_type": "execute_result"
    }
   ],
   "source": [
    "training_hist_df = pd.DataFrame(trainig_hist.history)\n",
    "\n",
    "training_hist_df['epoch'] = trainig_hist.epoch\n",
    "\n",
    "training_hist_df.tail()\n"
   ],
   "metadata": {
    "collapsed": false,
    "pycharm": {
     "name": "#%%\n"
    }
   }
  },
  {
   "cell_type": "code",
   "execution_count": 52,
   "outputs": [
    {
     "data": {
      "text/plain": "<Figure size 720x576 with 1 Axes>",
      "image/png": "[encoded data removed]"
     },
     "metadata": {
      "needs_background": "light"
     },
     "output_type": "display_data"
    }
   ],
   "source": [
    "import tensorflow_docs.plots\n",
    "\n",
    "plotter = tfdocs.plots.HistoryPlotter(smoothing_std=2)\n",
    "plt.figure(figsize=(10,8))\n",
    "plotter.plot({'Basic':trainig_hist}, metric=\"mae\")\n",
    "\n",
    "plt.ylabel('MAE [Charges]')\n",
    "\n",
    "plt.show()"
   ],
   "metadata": {
    "collapsed": false,
    "pycharm": {
     "name": "#%%\n"
    }
   }
  },
  {
   "cell_type": "code",
   "execution_count": 53,
   "outputs": [
    {
     "data": {
      "text/plain": "<Figure size 720x576 with 1 Axes>",
      "image/png": "[encoded data removed]"
     },
     "metadata": {
      "needs_background": "light"
     },
     "output_type": "display_data"
    }
   ],
   "source": [
    "plt.figure(figsize=(10,8))\n",
    "\n",
    "plotter.plot({'Basic':trainig_hist},metric='mse')\n",
    "plt.ylabel('MSE [Charges^2]')\n",
    "plt.show()\n"
   ],
   "metadata": {
    "collapsed": false,
    "pycharm": {
     "name": "#%%\n"
    }
   }
  },
  {
   "cell_type": "code",
   "execution_count": 54,
   "outputs": [
    {
     "data": {
      "text/plain": "<Figure size 720x576 with 1 Axes>",
      "image/png": "[encoded data removed]"
     },
     "metadata": {
      "needs_background": "light"
     },
     "output_type": "display_data"
    }
   ],
   "source": [
    "y_pred = combined_model.predict([test_numerical, test_images])\n",
    "\n",
    "plt.figure(figsize=(10,8))\n",
    "\n",
    "plt.scatter(test_target, y_pred, s=400, c='red')\n",
    "\n",
    "plt.xlabel('Actual charges values')\n",
    "plt.ylabel('Predicted charges values')\n",
    "plt.show()"
   ],
   "metadata": {
    "collapsed": false,
    "pycharm": {
     "name": "#%%\n"
    }
   }
  },
  {
   "cell_type": "code",
   "execution_count": 55,
   "outputs": [
    {
     "data": {
      "text/plain": "             0\n0     4.906695\n1     4.906695\n2     4.906695\n3   441.787842\n4   489.965942\n5  2483.392334\n6  4838.782227\n7     4.906695\n8     4.906695\n9  7092.264160",
      "text/html": "<div>\n<style scoped>\n    .dataframe tbody tr th:only-of-type {\n        vertical-align: middle;\n    }\n\n    .dataframe tbody tr th {\n        vertical-align: top;\n    }\n\n    .dataframe thead th {\n        text-align: right;\n    }\n</style>\n<table border=\"1\" class=\"dataframe\">\n  <thead>\n    <tr style=\"text-align: right;\">\n      <th></th>\n      <th>0</th>\n    </tr>\n  </thead>\n  <tbody>\n    <tr>\n      <th>0</th>\n      <td>4.906695</td>\n    </tr>\n    <tr>\n      <th>1</th>\n      <td>4.906695</td>\n    </tr>\n    <tr>\n      <th>2</th>\n      <td>4.906695</td>\n    </tr>\n    <tr>\n      <th>3</th>\n      <td>441.787842</td>\n    </tr>\n    <tr>\n      <th>4</th>\n      <td>489.965942</td>\n    </tr>\n    <tr>\n      <th>5</th>\n      <td>2483.392334</td>\n    </tr>\n    <tr>\n      <th>6</th>\n      <td>4838.782227</td>\n    </tr>\n    <tr>\n      <th>7</th>\n      <td>4.906695</td>\n    </tr>\n    <tr>\n      <th>8</th>\n      <td>4.906695</td>\n    </tr>\n    <tr>\n      <th>9</th>\n      <td>7092.264160</td>\n    </tr>\n  </tbody>\n</table>\n</div>"
     },
     "execution_count": 55,
     "metadata": {},
     "output_type": "execute_result"
    }
   ],
   "source": [
    "predicted = pd.DataFrame(y_pred)\n",
    "predicted.head(10)"
   ],
   "metadata": {
    "collapsed": false,
    "pycharm": {
     "name": "#%%\n"
    }
   }
  },
  {
   "cell_type": "code",
   "execution_count": 56,
   "outputs": [
    {
     "data": {
      "text/plain": "       Permeabilidad\n88683       0.249166\n64845       0.108480\n89465       0.079233\n14232     485.608468\n19408     511.325714\n33632    1654.539233\n40670    4459.762778\n81181       0.009978\n96600       2.761981\n20074    7135.675246",
      "text/html": "<div>\n<style scoped>\n    .dataframe tbody tr th:only-of-type {\n        vertical-align: middle;\n    }\n\n    .dataframe tbody tr th {\n        vertical-align: top;\n    }\n\n    .dataframe thead th {\n        text-align: right;\n    }\n</style>\n<table border=\"1\" class=\"dataframe\">\n  <thead>\n    <tr style=\"text-align: right;\">\n      <th></th>\n      <th>Permeabilidad</th>\n    </tr>\n  </thead>\n  <tbody>\n    <tr>\n      <th>88683</th>\n      <td>0.249166</td>\n    </tr>\n    <tr>\n      <th>64845</th>\n      <td>0.108480</td>\n    </tr>\n    <tr>\n      <th>89465</th>\n      <td>0.079233</td>\n    </tr>\n    <tr>\n      <th>14232</th>\n      <td>485.608468</td>\n    </tr>\n    <tr>\n      <th>19408</th>\n      <td>511.325714</td>\n    </tr>\n    <tr>\n      <th>33632</th>\n      <td>1654.539233</td>\n    </tr>\n    <tr>\n      <th>40670</th>\n      <td>4459.762778</td>\n    </tr>\n    <tr>\n      <th>81181</th>\n      <td>0.009978</td>\n    </tr>\n    <tr>\n      <th>96600</th>\n      <td>2.761981</td>\n    </tr>\n    <tr>\n      <th>20074</th>\n      <td>7135.675246</td>\n    </tr>\n  </tbody>\n</table>\n</div>"
     },
     "execution_count": 56,
     "metadata": {},
     "output_type": "execute_result"
    }
   ],
   "source": [
    "target_as_df = pd.DataFrame(test_target)\n",
    "target_as_df.head(10)"
   ],
   "metadata": {
    "collapsed": false,
    "pycharm": {
     "name": "#%%\n"
    }
   }
  },
  {
   "cell_type": "code",
   "execution_count": 57,
   "outputs": [
    {
     "data": {
      "text/plain": "0.9835294826647979"
     },
     "execution_count": 57,
     "metadata": {},
     "output_type": "execute_result"
    }
   ],
   "source": [
    "from sklearn.metrics import r2_score\n",
    "r2_score(test_target, y_pred)\n"
   ],
   "metadata": {
    "collapsed": false,
    "pycharm": {
     "name": "#%%\n"
    }
   }
  },
  {
   "cell_type": "code",
   "execution_count": 3,
   "outputs": [],
   "source": [
    "combined_model = tf.keras.models.load_model(r'D:\\Tomografia\\All_Project\\models\\real_perm_model9835.h5')"
   ],
   "metadata": {
    "collapsed": false,
    "pycharm": {
     "name": "#%%\n"
    }
   }
  },
  {
   "cell_type": "code",
   "execution_count": 42,
   "outputs": [
    {
     "name": "stderr",
     "output_type": "stream",
     "text": [
      "C:\\Users\\erick\\anaconda3\\envs\\DeepKoopa\\lib\\site-packages\\ipykernel_launcher.py:11: UserWarning: Attempted to set non-positive left xlim on a log-scaled axis.\n",
      "Invalid limit will be ignored.\n",
      "  # This is added back by InteractiveShellApp.init_path()\n"
     ]
    },
    {
     "data": {
      "text/plain": "<Figure size 432x288 with 1 Axes>",
      "image/png": "[encoded data removed]"
     },
     "metadata": {
      "needs_background": "light"
     },
     "output_type": "display_data"
    }
   ],
   "source": [
    "poro_predicted = combined_model.predict([test_numerical,test_images])\n",
    "\n",
    "actual_porosity = np.array(test_target['Permeabilidad']).reshape(-1,1)\n",
    "\n",
    "\n",
    "ax=sns.regplot(x=poro_predicted,y=actual_porosity, ci=95)\n",
    "ax.set_xlabel('Predicted permeability')\n",
    "ax.set_ylabel('Actual permeability')\n",
    "ax.set_xscale('log')\n",
    "ax.set_ylim(bottom=0)\n",
    "ax.set_xlim(left=0)\n",
    "ax.set_yscale('symlog')\n",
    "\n",
    "ax.set_axisbelow(True)\n",
    "ax.yaxis.grid(color='lightgray', linestyle='-')\n",
    "ax.xaxis.grid(color='lightgray', linestyle='-')\n",
    "ax.get_figure().savefig(r'D:\\Tomografia\\article\\ImagesArticle\\permeability.svg')\n"
   ],
   "metadata": {
    "collapsed": false,
    "pycharm": {
     "name": "#%%\n"
    }
   }
  },
  {
   "cell_type": "code",
   "execution_count": 63,
   "outputs": [
    {
     "name": "stdout",
     "output_type": "stream",
     "text": [
      "R2_score: 0.984\n",
      "MSE: 1.53e+05\n",
      "MAE: 1.03e+02\n",
      "Max Error: 5.44e+03\n"
     ]
    }
   ],
   "source": [
    "from sklearn.metrics import r2_score, mean_squared_error, mean_absolute_error, max_error\n",
    "print('R2_score: {:.3}\\nMSE: {:.3}\\nMAE: {:.3}\\nMax Error: {:.3}'.format(r2_score(actual_porosity, poro_predicted),\n",
    "                                                               mean_squared_error(actual_porosity,poro_predicted),\n",
    "                                                               mean_absolute_error(actual_porosity,poro_predicted),\n",
    "                                                               max_error(actual_porosity, poro_predicted)))\n",
    "\n",
    "\n"
   ],
   "metadata": {
    "collapsed": false,
    "pycharm": {
     "name": "#%%\n"
    }
   }
  },
  {
   "cell_type": "code",
   "execution_count": null,
   "outputs": [],
   "source": [],
   "metadata": {
    "collapsed": false,
    "pycharm": {
     "name": "#%%\n"
    }
   }
  }
 ],
 "metadata": {
  "kernelspec": {
   "display_name": "Python 3",
   "language": "python",
   "name": "python3"
  },
  "language_info": {
   "codemirror_mode": {
    "name": "ipython",
    "version": 2
   },
   "file_extension": ".py",
   "mimetype": "text/x-python",
   "name": "python",
   "nbconvert_exporter": "python",
   "pygments_lexer": "ipython2",
   "version": "2.7.6"
  }
 },
 "nbformat": 4,
 "nbformat_minor": 0
}